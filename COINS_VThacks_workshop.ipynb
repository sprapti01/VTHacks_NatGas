{
 "cells": [
  {
   "cell_type": "markdown",
   "id": "4455229d",
   "metadata": {},
   "source": [
    "# DATA ANALYTICS WITH NATURAL GAS\n",
    "    Maximo DeLeon\n",
    "    Prapti Singh\n",
    "    Gurkirat Singh"
   ]
  },
  {
   "cell_type": "code",
   "execution_count": 71,
   "id": "bc17fc73",
   "metadata": {},
   "outputs": [
    {
     "data": {
      "text/plain": [
       "(156, 38)"
      ]
     },
     "execution_count": 71,
     "metadata": {},
     "output_type": "execute_result"
    }
   ],
   "source": [
    "import pandas\n",
    "import matplotlib.pyplot as plt\n",
    "df = pandas.read_csv('NaturalGasDataset.csv')\n",
    "df.shape"
   ]
  },
  {
   "cell_type": "code",
   "execution_count": 72,
   "id": "d77214e0",
   "metadata": {},
   "outputs": [
    {
     "data": {
      "text/plain": [
       "Index(['Henry Hub Natural Gas Spot Price (Dollars per Million Btu)',\n",
       "       'U.S. Natural Gas Liquid Composite Price (Dollars per Million Btu)',\n",
       "       'Natural Gas Futures Contract 1 (Dollars per Million Btu)',\n",
       "       'Natural Gas Futures Contract 2 (Dollars per Million Btu)',\n",
       "       'Natural Gas Futures Contract 3 (Dollars per Million Btu)',\n",
       "       'Natural Gas Futures Contract 4 (Dollars per Million Btu)',\n",
       "       'Price of U.S. Natural Gas Imports (Dollars per Thousand Cubic Feet)',\n",
       "       'U.S. Natural Gas Pipeline Imports Price (Dollars per Thousand Cubic Feet)',\n",
       "       'Price of U.S. Natural Gas Exports (Dollars per Thousand Cubic Feet)',\n",
       "       'Price of U.S. Natural Gas Pipeline Exports (Dollars per Thousand Cubic Feet)',\n",
       "       'Price of Liquefied U.S. Natural Gas Exports (Dollars per Thousand Cubic Feet)',\n",
       "       'U.S. Natural Gas Citygate Price (Dollars per Thousand Cubic Feet)',\n",
       "       'U.S. Price of Natural Gas Delivered to Residential Consumers (Dollars per Thousand Cubic Feet)',\n",
       "       'U.S. Price of Natural Gas Sold to Commercial Consumers (Dollars per Thousand Cubic Feet)',\n",
       "       'United States Natural Gas Industrial Price (Dollars per Thousand Cubic Feet)',\n",
       "       'Date...16', 'U.S. Natural Gas Gross Withdrawals (MMcf)',\n",
       "       'U.S. Natural Gas Marketed Production (MMcf)',\n",
       "       'U.S. Natural Gas Plant Liquids Production (Million Cubic Feet)',\n",
       "       'U.S. Dry Natural Gas Production (MMcf)', 'Date...21',\n",
       "       'U.S. Natural Gas Total Consumption (MMcf)',\n",
       "       'U.S. Natural Gas Lease and Plant Fuel Consumption (MMcf)',\n",
       "       'U.S. Natural Gas Pipeline & Distribution Use (MMcf)',\n",
       "       'Natural Gas Delivered to Consumers in the U.S. (MMcf)',\n",
       "       'U.S. Natural Gas Residential Consumption (MMcf)',\n",
       "       'Natural Gas Deliveries to Commercial Consumers (Including Vehicle Fuel through 1996) in the U.S. (MMcf)',\n",
       "       'U.S. Natural Gas Industrial Consumption (MMcf)',\n",
       "       'U.S. Natural Gas Vehicle Fuel Consumption (MMcf)',\n",
       "       'U.S. Natural Gas Deliveries to Electric Power Consumers (MMcf)',\n",
       "       'Date...31', 'U.S. Natural Gas Imports (MMcf)',\n",
       "       'U.S. Natural Gas Pipeline Imports (MMcf)',\n",
       "       'U.S. Liquefied Natural Gas Imports (MMcf)',\n",
       "       'U.S. Natural Gas Exports (MMcf)',\n",
       "       'U.S. Natural Gas Pipeline Exports (MMcf)',\n",
       "       'Liquefied U.S. Natural Gas Exports (MMcf)', 'Date...38'],\n",
       "      dtype='object')"
      ]
     },
     "execution_count": 72,
     "metadata": {},
     "output_type": "execute_result"
    }
   ],
   "source": [
    "df.columns"
   ]
  },
  {
   "cell_type": "markdown",
   "id": "135dc572",
   "metadata": {},
   "source": [
    "## Data Cleaning "
   ]
  },
  {
   "cell_type": "code",
   "execution_count": 73,
   "id": "e3e7ac99",
   "metadata": {},
   "outputs": [
    {
     "data": {
      "text/plain": [
       "(156, 19)"
      ]
     },
     "execution_count": 73,
     "metadata": {},
     "output_type": "execute_result"
    }
   ],
   "source": [
    "date_columns = [col for col in df.columns if col.startswith('Date')]\n",
    "clean_data = df.drop(columns=date_columns)\n",
    "price_columns = [col for col in clean_data.columns if 'price' in col.lower()]\n",
    "clean_data = clean_data.drop(columns=price_columns)\n",
    "futures_columns = [col for col in clean_data.columns if 'futures' in col.lower()]\n",
    "clean_data = clean_data.drop(columns=futures_columns)\n",
    "clean_data.shape"
   ]
  },
  {
   "cell_type": "markdown",
   "id": "d961fa7e",
   "metadata": {},
   "source": [
    "## LINEAR REGRESSION"
   ]
  },
  {
   "cell_type": "code",
   "execution_count": 74,
   "id": "18114c64",
   "metadata": {},
   "outputs": [
    {
     "data": {
      "application/vnd.plotly.v1+json": {
       "config": {
        "plotlyServerURL": "https://plot.ly"
       },
       "data": [
        {
         "domain": {
          "x": [
           0,
           1
          ],
          "y": [
           0,
           1
          ]
         },
         "hovertemplate": "Feature=%{label}<br>Importance=%{value}<extra></extra>",
         "labels": [
          "U.S. Natural Gas Gross Withdrawals (MMcf)",
          "U.S. Natural Gas Marketed Production (MMcf)",
          "U.S. Natural Gas Plant Liquids Production (Million Cubic Feet)",
          "U.S. Dry Natural Gas Production (MMcf)",
          "U.S. Natural Gas Total Consumption (MMcf)",
          "U.S. Natural Gas Lease and Plant Fuel Consumption (MMcf)",
          "U.S. Natural Gas Pipeline & Distribution Use (MMcf)",
          "Natural Gas Delivered to Consumers in the U.S. (MMcf)",
          "U.S. Natural Gas Residential Consumption (MMcf)",
          "Natural Gas Deliveries to Commercial Consumers (Including Vehicle Fuel through 1996) in the U.S. (MMcf)",
          "U.S. Natural Gas Industrial Consumption (MMcf)",
          "U.S. Natural Gas Vehicle Fuel Consumption (MMcf)",
          "U.S. Natural Gas Deliveries to Electric Power Consumers (MMcf)",
          "U.S. Natural Gas Imports (MMcf)",
          "U.S. Natural Gas Pipeline Imports (MMcf)",
          "U.S. Liquefied Natural Gas Imports (MMcf)",
          "U.S. Natural Gas Exports (MMcf)",
          "U.S. Natural Gas Pipeline Exports (MMcf)",
          "Liquefied U.S. Natural Gas Exports (MMcf)"
         ],
         "legendgroup": "",
         "name": "",
         "showlegend": true,
         "type": "pie",
         "values": [
          9.825751071229727e-06,
          0.01779554732292021,
          0.01790232539576579,
          0.017794151997790806,
          0.057028297878893526,
          0.057149309386394655,
          0.057073795521994854,
          0.038611243607910635,
          0.0956299046765533,
          0.09565360620100938,
          0.09563611844878012,
          0.09456292018637645,
          0.09563539712961013,
          0.02353439798594864,
          0.023506968848721884,
          0.023512430727305286,
          0.06299764504478887,
          0.06296719363605847,
          0.06299892025210588
         ]
        }
       ],
       "layout": {
        "legend": {
         "tracegroupgap": 0
        },
        "template": {
         "data": {
          "bar": [
           {
            "error_x": {
             "color": "#2a3f5f"
            },
            "error_y": {
             "color": "#2a3f5f"
            },
            "marker": {
             "line": {
              "color": "#E5ECF6",
              "width": 0.5
             },
             "pattern": {
              "fillmode": "overlay",
              "size": 10,
              "solidity": 0.2
             }
            },
            "type": "bar"
           }
          ],
          "barpolar": [
           {
            "marker": {
             "line": {
              "color": "#E5ECF6",
              "width": 0.5
             },
             "pattern": {
              "fillmode": "overlay",
              "size": 10,
              "solidity": 0.2
             }
            },
            "type": "barpolar"
           }
          ],
          "carpet": [
           {
            "aaxis": {
             "endlinecolor": "#2a3f5f",
             "gridcolor": "white",
             "linecolor": "white",
             "minorgridcolor": "white",
             "startlinecolor": "#2a3f5f"
            },
            "baxis": {
             "endlinecolor": "#2a3f5f",
             "gridcolor": "white",
             "linecolor": "white",
             "minorgridcolor": "white",
             "startlinecolor": "#2a3f5f"
            },
            "type": "carpet"
           }
          ],
          "choropleth": [
           {
            "colorbar": {
             "outlinewidth": 0,
             "ticks": ""
            },
            "type": "choropleth"
           }
          ],
          "contour": [
           {
            "colorbar": {
             "outlinewidth": 0,
             "ticks": ""
            },
            "colorscale": [
             [
              0,
              "#0d0887"
             ],
             [
              0.1111111111111111,
              "#46039f"
             ],
             [
              0.2222222222222222,
              "#7201a8"
             ],
             [
              0.3333333333333333,
              "#9c179e"
             ],
             [
              0.4444444444444444,
              "#bd3786"
             ],
             [
              0.5555555555555556,
              "#d8576b"
             ],
             [
              0.6666666666666666,
              "#ed7953"
             ],
             [
              0.7777777777777778,
              "#fb9f3a"
             ],
             [
              0.8888888888888888,
              "#fdca26"
             ],
             [
              1,
              "#f0f921"
             ]
            ],
            "type": "contour"
           }
          ],
          "contourcarpet": [
           {
            "colorbar": {
             "outlinewidth": 0,
             "ticks": ""
            },
            "type": "contourcarpet"
           }
          ],
          "heatmap": [
           {
            "colorbar": {
             "outlinewidth": 0,
             "ticks": ""
            },
            "colorscale": [
             [
              0,
              "#0d0887"
             ],
             [
              0.1111111111111111,
              "#46039f"
             ],
             [
              0.2222222222222222,
              "#7201a8"
             ],
             [
              0.3333333333333333,
              "#9c179e"
             ],
             [
              0.4444444444444444,
              "#bd3786"
             ],
             [
              0.5555555555555556,
              "#d8576b"
             ],
             [
              0.6666666666666666,
              "#ed7953"
             ],
             [
              0.7777777777777778,
              "#fb9f3a"
             ],
             [
              0.8888888888888888,
              "#fdca26"
             ],
             [
              1,
              "#f0f921"
             ]
            ],
            "type": "heatmap"
           }
          ],
          "heatmapgl": [
           {
            "colorbar": {
             "outlinewidth": 0,
             "ticks": ""
            },
            "colorscale": [
             [
              0,
              "#0d0887"
             ],
             [
              0.1111111111111111,
              "#46039f"
             ],
             [
              0.2222222222222222,
              "#7201a8"
             ],
             [
              0.3333333333333333,
              "#9c179e"
             ],
             [
              0.4444444444444444,
              "#bd3786"
             ],
             [
              0.5555555555555556,
              "#d8576b"
             ],
             [
              0.6666666666666666,
              "#ed7953"
             ],
             [
              0.7777777777777778,
              "#fb9f3a"
             ],
             [
              0.8888888888888888,
              "#fdca26"
             ],
             [
              1,
              "#f0f921"
             ]
            ],
            "type": "heatmapgl"
           }
          ],
          "histogram": [
           {
            "marker": {
             "pattern": {
              "fillmode": "overlay",
              "size": 10,
              "solidity": 0.2
             }
            },
            "type": "histogram"
           }
          ],
          "histogram2d": [
           {
            "colorbar": {
             "outlinewidth": 0,
             "ticks": ""
            },
            "colorscale": [
             [
              0,
              "#0d0887"
             ],
             [
              0.1111111111111111,
              "#46039f"
             ],
             [
              0.2222222222222222,
              "#7201a8"
             ],
             [
              0.3333333333333333,
              "#9c179e"
             ],
             [
              0.4444444444444444,
              "#bd3786"
             ],
             [
              0.5555555555555556,
              "#d8576b"
             ],
             [
              0.6666666666666666,
              "#ed7953"
             ],
             [
              0.7777777777777778,
              "#fb9f3a"
             ],
             [
              0.8888888888888888,
              "#fdca26"
             ],
             [
              1,
              "#f0f921"
             ]
            ],
            "type": "histogram2d"
           }
          ],
          "histogram2dcontour": [
           {
            "colorbar": {
             "outlinewidth": 0,
             "ticks": ""
            },
            "colorscale": [
             [
              0,
              "#0d0887"
             ],
             [
              0.1111111111111111,
              "#46039f"
             ],
             [
              0.2222222222222222,
              "#7201a8"
             ],
             [
              0.3333333333333333,
              "#9c179e"
             ],
             [
              0.4444444444444444,
              "#bd3786"
             ],
             [
              0.5555555555555556,
              "#d8576b"
             ],
             [
              0.6666666666666666,
              "#ed7953"
             ],
             [
              0.7777777777777778,
              "#fb9f3a"
             ],
             [
              0.8888888888888888,
              "#fdca26"
             ],
             [
              1,
              "#f0f921"
             ]
            ],
            "type": "histogram2dcontour"
           }
          ],
          "mesh3d": [
           {
            "colorbar": {
             "outlinewidth": 0,
             "ticks": ""
            },
            "type": "mesh3d"
           }
          ],
          "parcoords": [
           {
            "line": {
             "colorbar": {
              "outlinewidth": 0,
              "ticks": ""
             }
            },
            "type": "parcoords"
           }
          ],
          "pie": [
           {
            "automargin": true,
            "type": "pie"
           }
          ],
          "scatter": [
           {
            "fillpattern": {
             "fillmode": "overlay",
             "size": 10,
             "solidity": 0.2
            },
            "type": "scatter"
           }
          ],
          "scatter3d": [
           {
            "line": {
             "colorbar": {
              "outlinewidth": 0,
              "ticks": ""
             }
            },
            "marker": {
             "colorbar": {
              "outlinewidth": 0,
              "ticks": ""
             }
            },
            "type": "scatter3d"
           }
          ],
          "scattercarpet": [
           {
            "marker": {
             "colorbar": {
              "outlinewidth": 0,
              "ticks": ""
             }
            },
            "type": "scattercarpet"
           }
          ],
          "scattergeo": [
           {
            "marker": {
             "colorbar": {
              "outlinewidth": 0,
              "ticks": ""
             }
            },
            "type": "scattergeo"
           }
          ],
          "scattergl": [
           {
            "marker": {
             "colorbar": {
              "outlinewidth": 0,
              "ticks": ""
             }
            },
            "type": "scattergl"
           }
          ],
          "scattermapbox": [
           {
            "marker": {
             "colorbar": {
              "outlinewidth": 0,
              "ticks": ""
             }
            },
            "type": "scattermapbox"
           }
          ],
          "scatterpolar": [
           {
            "marker": {
             "colorbar": {
              "outlinewidth": 0,
              "ticks": ""
             }
            },
            "type": "scatterpolar"
           }
          ],
          "scatterpolargl": [
           {
            "marker": {
             "colorbar": {
              "outlinewidth": 0,
              "ticks": ""
             }
            },
            "type": "scatterpolargl"
           }
          ],
          "scatterternary": [
           {
            "marker": {
             "colorbar": {
              "outlinewidth": 0,
              "ticks": ""
             }
            },
            "type": "scatterternary"
           }
          ],
          "surface": [
           {
            "colorbar": {
             "outlinewidth": 0,
             "ticks": ""
            },
            "colorscale": [
             [
              0,
              "#0d0887"
             ],
             [
              0.1111111111111111,
              "#46039f"
             ],
             [
              0.2222222222222222,
              "#7201a8"
             ],
             [
              0.3333333333333333,
              "#9c179e"
             ],
             [
              0.4444444444444444,
              "#bd3786"
             ],
             [
              0.5555555555555556,
              "#d8576b"
             ],
             [
              0.6666666666666666,
              "#ed7953"
             ],
             [
              0.7777777777777778,
              "#fb9f3a"
             ],
             [
              0.8888888888888888,
              "#fdca26"
             ],
             [
              1,
              "#f0f921"
             ]
            ],
            "type": "surface"
           }
          ],
          "table": [
           {
            "cells": {
             "fill": {
              "color": "#EBF0F8"
             },
             "line": {
              "color": "white"
             }
            },
            "header": {
             "fill": {
              "color": "#C8D4E3"
             },
             "line": {
              "color": "white"
             }
            },
            "type": "table"
           }
          ]
         },
         "layout": {
          "annotationdefaults": {
           "arrowcolor": "#2a3f5f",
           "arrowhead": 0,
           "arrowwidth": 1
          },
          "autotypenumbers": "strict",
          "coloraxis": {
           "colorbar": {
            "outlinewidth": 0,
            "ticks": ""
           }
          },
          "colorscale": {
           "diverging": [
            [
             0,
             "#8e0152"
            ],
            [
             0.1,
             "#c51b7d"
            ],
            [
             0.2,
             "#de77ae"
            ],
            [
             0.3,
             "#f1b6da"
            ],
            [
             0.4,
             "#fde0ef"
            ],
            [
             0.5,
             "#f7f7f7"
            ],
            [
             0.6,
             "#e6f5d0"
            ],
            [
             0.7,
             "#b8e186"
            ],
            [
             0.8,
             "#7fbc41"
            ],
            [
             0.9,
             "#4d9221"
            ],
            [
             1,
             "#276419"
            ]
           ],
           "sequential": [
            [
             0,
             "#0d0887"
            ],
            [
             0.1111111111111111,
             "#46039f"
            ],
            [
             0.2222222222222222,
             "#7201a8"
            ],
            [
             0.3333333333333333,
             "#9c179e"
            ],
            [
             0.4444444444444444,
             "#bd3786"
            ],
            [
             0.5555555555555556,
             "#d8576b"
            ],
            [
             0.6666666666666666,
             "#ed7953"
            ],
            [
             0.7777777777777778,
             "#fb9f3a"
            ],
            [
             0.8888888888888888,
             "#fdca26"
            ],
            [
             1,
             "#f0f921"
            ]
           ],
           "sequentialminus": [
            [
             0,
             "#0d0887"
            ],
            [
             0.1111111111111111,
             "#46039f"
            ],
            [
             0.2222222222222222,
             "#7201a8"
            ],
            [
             0.3333333333333333,
             "#9c179e"
            ],
            [
             0.4444444444444444,
             "#bd3786"
            ],
            [
             0.5555555555555556,
             "#d8576b"
            ],
            [
             0.6666666666666666,
             "#ed7953"
            ],
            [
             0.7777777777777778,
             "#fb9f3a"
            ],
            [
             0.8888888888888888,
             "#fdca26"
            ],
            [
             1,
             "#f0f921"
            ]
           ]
          },
          "colorway": [
           "#636efa",
           "#EF553B",
           "#00cc96",
           "#ab63fa",
           "#FFA15A",
           "#19d3f3",
           "#FF6692",
           "#B6E880",
           "#FF97FF",
           "#FECB52"
          ],
          "font": {
           "color": "#2a3f5f"
          },
          "geo": {
           "bgcolor": "white",
           "lakecolor": "white",
           "landcolor": "#E5ECF6",
           "showlakes": true,
           "showland": true,
           "subunitcolor": "white"
          },
          "hoverlabel": {
           "align": "left"
          },
          "hovermode": "closest",
          "mapbox": {
           "style": "light"
          },
          "paper_bgcolor": "white",
          "plot_bgcolor": "#E5ECF6",
          "polar": {
           "angularaxis": {
            "gridcolor": "white",
            "linecolor": "white",
            "ticks": ""
           },
           "bgcolor": "#E5ECF6",
           "radialaxis": {
            "gridcolor": "white",
            "linecolor": "white",
            "ticks": ""
           }
          },
          "scene": {
           "xaxis": {
            "backgroundcolor": "#E5ECF6",
            "gridcolor": "white",
            "gridwidth": 2,
            "linecolor": "white",
            "showbackground": true,
            "ticks": "",
            "zerolinecolor": "white"
           },
           "yaxis": {
            "backgroundcolor": "#E5ECF6",
            "gridcolor": "white",
            "gridwidth": 2,
            "linecolor": "white",
            "showbackground": true,
            "ticks": "",
            "zerolinecolor": "white"
           },
           "zaxis": {
            "backgroundcolor": "#E5ECF6",
            "gridcolor": "white",
            "gridwidth": 2,
            "linecolor": "white",
            "showbackground": true,
            "ticks": "",
            "zerolinecolor": "white"
           }
          },
          "shapedefaults": {
           "line": {
            "color": "#2a3f5f"
           }
          },
          "ternary": {
           "aaxis": {
            "gridcolor": "white",
            "linecolor": "white",
            "ticks": ""
           },
           "baxis": {
            "gridcolor": "white",
            "linecolor": "white",
            "ticks": ""
           },
           "bgcolor": "#E5ECF6",
           "caxis": {
            "gridcolor": "white",
            "linecolor": "white",
            "ticks": ""
           }
          },
          "title": {
           "x": 0.05
          },
          "xaxis": {
           "automargin": true,
           "gridcolor": "white",
           "linecolor": "white",
           "ticks": "",
           "title": {
            "standoff": 15
           },
           "zerolinecolor": "white",
           "zerolinewidth": 2
          },
          "yaxis": {
           "automargin": true,
           "gridcolor": "white",
           "linecolor": "white",
           "ticks": "",
           "title": {
            "standoff": 15
           },
           "zerolinecolor": "white",
           "zerolinewidth": 2
          }
         }
        },
        "title": {
         "text": "Feature Importance for Natural Gas Spot Prices"
        }
       }
      },
      "text/html": [
       "<div>                            <div id=\"f17edef7-02a9-4f6e-b773-50e99b65975c\" class=\"plotly-graph-div\" style=\"height:525px; width:100%;\"></div>            <script type=\"text/javascript\">                require([\"plotly\"], function(Plotly) {                    window.PLOTLYENV=window.PLOTLYENV || {};                                    if (document.getElementById(\"f17edef7-02a9-4f6e-b773-50e99b65975c\")) {                    Plotly.newPlot(                        \"f17edef7-02a9-4f6e-b773-50e99b65975c\",                        [{\"domain\":{\"x\":[0.0,1.0],\"y\":[0.0,1.0]},\"hovertemplate\":\"Feature=%{label}<br>Importance=%{value}<extra></extra>\",\"labels\":[\"U.S. Natural Gas Gross Withdrawals (MMcf)\",\"U.S. Natural Gas Marketed Production (MMcf)\",\"U.S. Natural Gas Plant Liquids Production (Million Cubic Feet)\",\"U.S. Dry Natural Gas Production (MMcf)\",\"U.S. Natural Gas Total Consumption (MMcf)\",\"U.S. Natural Gas Lease and Plant Fuel Consumption (MMcf)\",\"U.S. Natural Gas Pipeline & Distribution Use (MMcf)\",\"Natural Gas Delivered to Consumers in the U.S. (MMcf)\",\"U.S. Natural Gas Residential Consumption (MMcf)\",\"Natural Gas Deliveries to Commercial Consumers (Including Vehicle Fuel through 1996) in the U.S. (MMcf)\",\"U.S. Natural Gas Industrial Consumption (MMcf)\",\"U.S. Natural Gas Vehicle Fuel Consumption (MMcf)\",\"U.S. Natural Gas Deliveries to Electric Power Consumers (MMcf)\",\"U.S. Natural Gas Imports (MMcf)\",\"U.S. Natural Gas Pipeline Imports (MMcf)\",\"U.S. Liquefied Natural Gas Imports (MMcf)\",\"U.S. Natural Gas Exports (MMcf)\",\"U.S. Natural Gas Pipeline Exports (MMcf)\",\"Liquefied U.S. Natural Gas Exports (MMcf)\"],\"legendgroup\":\"\",\"name\":\"\",\"showlegend\":true,\"values\":[9.825751071229727e-06,0.01779554732292021,0.01790232539576579,0.017794151997790806,0.057028297878893526,0.057149309386394655,0.057073795521994854,0.038611243607910635,0.0956299046765533,0.09565360620100938,0.09563611844878012,0.09456292018637645,0.09563539712961013,0.02353439798594864,0.023506968848721884,0.023512430727305286,0.06299764504478887,0.06296719363605847,0.06299892025210588],\"type\":\"pie\"}],                        {\"template\":{\"data\":{\"histogram2dcontour\":[{\"type\":\"histogram2dcontour\",\"colorbar\":{\"outlinewidth\":0,\"ticks\":\"\"},\"colorscale\":[[0.0,\"#0d0887\"],[0.1111111111111111,\"#46039f\"],[0.2222222222222222,\"#7201a8\"],[0.3333333333333333,\"#9c179e\"],[0.4444444444444444,\"#bd3786\"],[0.5555555555555556,\"#d8576b\"],[0.6666666666666666,\"#ed7953\"],[0.7777777777777778,\"#fb9f3a\"],[0.8888888888888888,\"#fdca26\"],[1.0,\"#f0f921\"]]}],\"choropleth\":[{\"type\":\"choropleth\",\"colorbar\":{\"outlinewidth\":0,\"ticks\":\"\"}}],\"histogram2d\":[{\"type\":\"histogram2d\",\"colorbar\":{\"outlinewidth\":0,\"ticks\":\"\"},\"colorscale\":[[0.0,\"#0d0887\"],[0.1111111111111111,\"#46039f\"],[0.2222222222222222,\"#7201a8\"],[0.3333333333333333,\"#9c179e\"],[0.4444444444444444,\"#bd3786\"],[0.5555555555555556,\"#d8576b\"],[0.6666666666666666,\"#ed7953\"],[0.7777777777777778,\"#fb9f3a\"],[0.8888888888888888,\"#fdca26\"],[1.0,\"#f0f921\"]]}],\"heatmap\":[{\"type\":\"heatmap\",\"colorbar\":{\"outlinewidth\":0,\"ticks\":\"\"},\"colorscale\":[[0.0,\"#0d0887\"],[0.1111111111111111,\"#46039f\"],[0.2222222222222222,\"#7201a8\"],[0.3333333333333333,\"#9c179e\"],[0.4444444444444444,\"#bd3786\"],[0.5555555555555556,\"#d8576b\"],[0.6666666666666666,\"#ed7953\"],[0.7777777777777778,\"#fb9f3a\"],[0.8888888888888888,\"#fdca26\"],[1.0,\"#f0f921\"]]}],\"heatmapgl\":[{\"type\":\"heatmapgl\",\"colorbar\":{\"outlinewidth\":0,\"ticks\":\"\"},\"colorscale\":[[0.0,\"#0d0887\"],[0.1111111111111111,\"#46039f\"],[0.2222222222222222,\"#7201a8\"],[0.3333333333333333,\"#9c179e\"],[0.4444444444444444,\"#bd3786\"],[0.5555555555555556,\"#d8576b\"],[0.6666666666666666,\"#ed7953\"],[0.7777777777777778,\"#fb9f3a\"],[0.8888888888888888,\"#fdca26\"],[1.0,\"#f0f921\"]]}],\"contourcarpet\":[{\"type\":\"contourcarpet\",\"colorbar\":{\"outlinewidth\":0,\"ticks\":\"\"}}],\"contour\":[{\"type\":\"contour\",\"colorbar\":{\"outlinewidth\":0,\"ticks\":\"\"},\"colorscale\":[[0.0,\"#0d0887\"],[0.1111111111111111,\"#46039f\"],[0.2222222222222222,\"#7201a8\"],[0.3333333333333333,\"#9c179e\"],[0.4444444444444444,\"#bd3786\"],[0.5555555555555556,\"#d8576b\"],[0.6666666666666666,\"#ed7953\"],[0.7777777777777778,\"#fb9f3a\"],[0.8888888888888888,\"#fdca26\"],[1.0,\"#f0f921\"]]}],\"surface\":[{\"type\":\"surface\",\"colorbar\":{\"outlinewidth\":0,\"ticks\":\"\"},\"colorscale\":[[0.0,\"#0d0887\"],[0.1111111111111111,\"#46039f\"],[0.2222222222222222,\"#7201a8\"],[0.3333333333333333,\"#9c179e\"],[0.4444444444444444,\"#bd3786\"],[0.5555555555555556,\"#d8576b\"],[0.6666666666666666,\"#ed7953\"],[0.7777777777777778,\"#fb9f3a\"],[0.8888888888888888,\"#fdca26\"],[1.0,\"#f0f921\"]]}],\"mesh3d\":[{\"type\":\"mesh3d\",\"colorbar\":{\"outlinewidth\":0,\"ticks\":\"\"}}],\"scatter\":[{\"fillpattern\":{\"fillmode\":\"overlay\",\"size\":10,\"solidity\":0.2},\"type\":\"scatter\"}],\"parcoords\":[{\"type\":\"parcoords\",\"line\":{\"colorbar\":{\"outlinewidth\":0,\"ticks\":\"\"}}}],\"scatterpolargl\":[{\"type\":\"scatterpolargl\",\"marker\":{\"colorbar\":{\"outlinewidth\":0,\"ticks\":\"\"}}}],\"bar\":[{\"error_x\":{\"color\":\"#2a3f5f\"},\"error_y\":{\"color\":\"#2a3f5f\"},\"marker\":{\"line\":{\"color\":\"#E5ECF6\",\"width\":0.5},\"pattern\":{\"fillmode\":\"overlay\",\"size\":10,\"solidity\":0.2}},\"type\":\"bar\"}],\"scattergeo\":[{\"type\":\"scattergeo\",\"marker\":{\"colorbar\":{\"outlinewidth\":0,\"ticks\":\"\"}}}],\"scatterpolar\":[{\"type\":\"scatterpolar\",\"marker\":{\"colorbar\":{\"outlinewidth\":0,\"ticks\":\"\"}}}],\"histogram\":[{\"marker\":{\"pattern\":{\"fillmode\":\"overlay\",\"size\":10,\"solidity\":0.2}},\"type\":\"histogram\"}],\"scattergl\":[{\"type\":\"scattergl\",\"marker\":{\"colorbar\":{\"outlinewidth\":0,\"ticks\":\"\"}}}],\"scatter3d\":[{\"type\":\"scatter3d\",\"line\":{\"colorbar\":{\"outlinewidth\":0,\"ticks\":\"\"}},\"marker\":{\"colorbar\":{\"outlinewidth\":0,\"ticks\":\"\"}}}],\"scattermapbox\":[{\"type\":\"scattermapbox\",\"marker\":{\"colorbar\":{\"outlinewidth\":0,\"ticks\":\"\"}}}],\"scatterternary\":[{\"type\":\"scatterternary\",\"marker\":{\"colorbar\":{\"outlinewidth\":0,\"ticks\":\"\"}}}],\"scattercarpet\":[{\"type\":\"scattercarpet\",\"marker\":{\"colorbar\":{\"outlinewidth\":0,\"ticks\":\"\"}}}],\"carpet\":[{\"aaxis\":{\"endlinecolor\":\"#2a3f5f\",\"gridcolor\":\"white\",\"linecolor\":\"white\",\"minorgridcolor\":\"white\",\"startlinecolor\":\"#2a3f5f\"},\"baxis\":{\"endlinecolor\":\"#2a3f5f\",\"gridcolor\":\"white\",\"linecolor\":\"white\",\"minorgridcolor\":\"white\",\"startlinecolor\":\"#2a3f5f\"},\"type\":\"carpet\"}],\"table\":[{\"cells\":{\"fill\":{\"color\":\"#EBF0F8\"},\"line\":{\"color\":\"white\"}},\"header\":{\"fill\":{\"color\":\"#C8D4E3\"},\"line\":{\"color\":\"white\"}},\"type\":\"table\"}],\"barpolar\":[{\"marker\":{\"line\":{\"color\":\"#E5ECF6\",\"width\":0.5},\"pattern\":{\"fillmode\":\"overlay\",\"size\":10,\"solidity\":0.2}},\"type\":\"barpolar\"}],\"pie\":[{\"automargin\":true,\"type\":\"pie\"}]},\"layout\":{\"autotypenumbers\":\"strict\",\"colorway\":[\"#636efa\",\"#EF553B\",\"#00cc96\",\"#ab63fa\",\"#FFA15A\",\"#19d3f3\",\"#FF6692\",\"#B6E880\",\"#FF97FF\",\"#FECB52\"],\"font\":{\"color\":\"#2a3f5f\"},\"hovermode\":\"closest\",\"hoverlabel\":{\"align\":\"left\"},\"paper_bgcolor\":\"white\",\"plot_bgcolor\":\"#E5ECF6\",\"polar\":{\"bgcolor\":\"#E5ECF6\",\"angularaxis\":{\"gridcolor\":\"white\",\"linecolor\":\"white\",\"ticks\":\"\"},\"radialaxis\":{\"gridcolor\":\"white\",\"linecolor\":\"white\",\"ticks\":\"\"}},\"ternary\":{\"bgcolor\":\"#E5ECF6\",\"aaxis\":{\"gridcolor\":\"white\",\"linecolor\":\"white\",\"ticks\":\"\"},\"baxis\":{\"gridcolor\":\"white\",\"linecolor\":\"white\",\"ticks\":\"\"},\"caxis\":{\"gridcolor\":\"white\",\"linecolor\":\"white\",\"ticks\":\"\"}},\"coloraxis\":{\"colorbar\":{\"outlinewidth\":0,\"ticks\":\"\"}},\"colorscale\":{\"sequential\":[[0.0,\"#0d0887\"],[0.1111111111111111,\"#46039f\"],[0.2222222222222222,\"#7201a8\"],[0.3333333333333333,\"#9c179e\"],[0.4444444444444444,\"#bd3786\"],[0.5555555555555556,\"#d8576b\"],[0.6666666666666666,\"#ed7953\"],[0.7777777777777778,\"#fb9f3a\"],[0.8888888888888888,\"#fdca26\"],[1.0,\"#f0f921\"]],\"sequentialminus\":[[0.0,\"#0d0887\"],[0.1111111111111111,\"#46039f\"],[0.2222222222222222,\"#7201a8\"],[0.3333333333333333,\"#9c179e\"],[0.4444444444444444,\"#bd3786\"],[0.5555555555555556,\"#d8576b\"],[0.6666666666666666,\"#ed7953\"],[0.7777777777777778,\"#fb9f3a\"],[0.8888888888888888,\"#fdca26\"],[1.0,\"#f0f921\"]],\"diverging\":[[0,\"#8e0152\"],[0.1,\"#c51b7d\"],[0.2,\"#de77ae\"],[0.3,\"#f1b6da\"],[0.4,\"#fde0ef\"],[0.5,\"#f7f7f7\"],[0.6,\"#e6f5d0\"],[0.7,\"#b8e186\"],[0.8,\"#7fbc41\"],[0.9,\"#4d9221\"],[1,\"#276419\"]]},\"xaxis\":{\"gridcolor\":\"white\",\"linecolor\":\"white\",\"ticks\":\"\",\"title\":{\"standoff\":15},\"zerolinecolor\":\"white\",\"automargin\":true,\"zerolinewidth\":2},\"yaxis\":{\"gridcolor\":\"white\",\"linecolor\":\"white\",\"ticks\":\"\",\"title\":{\"standoff\":15},\"zerolinecolor\":\"white\",\"automargin\":true,\"zerolinewidth\":2},\"scene\":{\"xaxis\":{\"backgroundcolor\":\"#E5ECF6\",\"gridcolor\":\"white\",\"linecolor\":\"white\",\"showbackground\":true,\"ticks\":\"\",\"zerolinecolor\":\"white\",\"gridwidth\":2},\"yaxis\":{\"backgroundcolor\":\"#E5ECF6\",\"gridcolor\":\"white\",\"linecolor\":\"white\",\"showbackground\":true,\"ticks\":\"\",\"zerolinecolor\":\"white\",\"gridwidth\":2},\"zaxis\":{\"backgroundcolor\":\"#E5ECF6\",\"gridcolor\":\"white\",\"linecolor\":\"white\",\"showbackground\":true,\"ticks\":\"\",\"zerolinecolor\":\"white\",\"gridwidth\":2}},\"shapedefaults\":{\"line\":{\"color\":\"#2a3f5f\"}},\"annotationdefaults\":{\"arrowcolor\":\"#2a3f5f\",\"arrowhead\":0,\"arrowwidth\":1},\"geo\":{\"bgcolor\":\"white\",\"landcolor\":\"#E5ECF6\",\"subunitcolor\":\"white\",\"showland\":true,\"showlakes\":true,\"lakecolor\":\"white\"},\"title\":{\"x\":0.05},\"mapbox\":{\"style\":\"light\"}}},\"legend\":{\"tracegroupgap\":0},\"title\":{\"text\":\"Feature Importance for Natural Gas Spot Prices\"}},                        {\"responsive\": true}                    ).then(function(){\n",
       "                            \n",
       "var gd = document.getElementById('f17edef7-02a9-4f6e-b773-50e99b65975c');\n",
       "var x = new MutationObserver(function (mutations, observer) {{\n",
       "        var display = window.getComputedStyle(gd).display;\n",
       "        if (!display || display === 'none') {{\n",
       "            console.log([gd, 'removed!']);\n",
       "            Plotly.purge(gd);\n",
       "            observer.disconnect();\n",
       "        }}\n",
       "}});\n",
       "\n",
       "// Listen for the removal of the full notebook cells\n",
       "var notebookContainer = gd.closest('#notebook-container');\n",
       "if (notebookContainer) {{\n",
       "    x.observe(notebookContainer, {childList: true});\n",
       "}}\n",
       "\n",
       "// Listen for the clearing of the current output cell\n",
       "var outputEl = gd.closest('.output');\n",
       "if (outputEl) {{\n",
       "    x.observe(outputEl, {childList: true});\n",
       "}}\n",
       "\n",
       "                        })                };                });            </script>        </div>"
      ]
     },
     "metadata": {},
     "output_type": "display_data"
    }
   ],
   "source": [
    "# Import necessary libraries\n",
    "import numpy as np\n",
    "import pandas as pd\n",
    "from sklearn.linear_model import LinearRegression\n",
    "import matplotlib.pyplot as plt\n",
    "import plotly.express as px\n",
    "\n",
    "y = df['Henry Hub Natural Gas Spot Price (Dollars per Million Btu)']\n",
    "X = clean_data.copy()\n",
    "\n",
    "# Create a linear regression model\n",
    "model = LinearRegression()\n",
    "model.fit(X, y)\n",
    "\n",
    "# Calculate the coefficients (importance) of each feature\n",
    "coefficients = model.coef_\n",
    "\n",
    "\n",
    "# Create a DataFrame to store feature labels and their importance\n",
    "feature_labels = clean_data.columns  # Assuming clean_data is a DataFrame\n",
    "feature_importance = np.abs(coefficients) / np.sum(np.abs(coefficients))\n",
    "feature_df = pd.DataFrame({'Feature': feature_labels, 'Importance': feature_importance})\n",
    "\n",
    "\n",
    "# Create a pie chart using Plotly\n",
    "fig = px.pie(feature_df, names='Feature', values='Importance', title='Feature Importance for Natural Gas Spot Prices')\n",
    "\n",
    "# Show the pie chart\n",
    "fig.show()"
   ]
  },
  {
   "cell_type": "code",
   "execution_count": 75,
   "id": "b727da5e",
   "metadata": {},
   "outputs": [
    {
     "data": {
      "text/plain": [
       "Index(['MarketedProduction', 'GrossWithdrawals', 'PlantLiquidsProduction',\n",
       "       'DryGasProduction', 'TotalConsumption', 'LeasePlantFuelConsumption',\n",
       "       'PipelineDistributionUse', 'DeliveredToConsumers',\n",
       "       'ResidentialConsumption', 'CommercialConsumption',\n",
       "       'IndustrialConsumption', 'VehicleFuelConsumption',\n",
       "       'ElectricPowerConsumption', 'Imports', 'PipelineImports', 'LNGImports',\n",
       "       'Exports', 'PipelineExports', 'LNGExports', 'SpotPrice'],\n",
       "      dtype='object')"
      ]
     },
     "execution_count": 75,
     "metadata": {},
     "output_type": "execute_result"
    }
   ],
   "source": [
    "merged_data = clean_data.merge(df['Henry Hub Natural Gas Spot Price (Dollars per Million Btu)'], on=df['U.S. Natural Gas Marketed Production (MMcf)'])\n",
    "# Drop duplicate columns\n",
    "merged_data = merged_data.T.drop_duplicates().T\n",
    "\n",
    "\n",
    "# Sample DataFrame with long column names\n",
    "data = {\n",
    "    'U.S. Natural Gas Gross Withdrawals (MMcf)': 'GrossWithdrawals',\n",
    "    'key_0': 'MarketedProduction',\n",
    "    'U.S. Natural Gas Plant Liquids Production (Million Cubic Feet)': 'PlantLiquidsProduction',\n",
    "    'U.S. Dry Natural Gas Production (MMcf)': 'DryGasProduction',\n",
    "    'U.S. Natural Gas Total Consumption (MMcf)': 'TotalConsumption',\n",
    "    'U.S. Natural Gas Lease and Plant Fuel Consumption (MMcf)': 'LeasePlantFuelConsumption',\n",
    "    'U.S. Natural Gas Pipeline & Distribution Use (MMcf)': 'PipelineDistributionUse',\n",
    "    'Natural Gas Delivered to Consumers in the U.S. (MMcf)': 'DeliveredToConsumers',\n",
    "    'U.S. Natural Gas Residential Consumption (MMcf)': 'ResidentialConsumption',\n",
    "    'Natural Gas Deliveries to Commercial Consumers (Including Vehicle Fuel through 1996) in the U.S. (MMcf)': 'CommercialConsumption',\n",
    "    'U.S. Natural Gas Industrial Consumption (MMcf)': 'IndustrialConsumption',\n",
    "    'U.S. Natural Gas Vehicle Fuel Consumption (MMcf)': 'VehicleFuelConsumption',\n",
    "    'U.S. Natural Gas Deliveries to Electric Power Consumers (MMcf)': 'ElectricPowerConsumption',\n",
    "    'U.S. Natural Gas Imports (MMcf)': 'Imports',\n",
    "    'U.S. Natural Gas Pipeline Imports (MMcf)': 'PipelineImports',\n",
    "    'U.S. Liquefied Natural Gas Imports (MMcf)': 'LNGImports',\n",
    "    'U.S. Natural Gas Exports (MMcf)': 'Exports',\n",
    "    'U.S. Natural Gas Pipeline Exports (MMcf)': 'PipelineExports',\n",
    "    'Liquefied U.S. Natural Gas Exports (MMcf)': 'LNGExports',\n",
    "    'Henry Hub Natural Gas Spot Price (Dollars per Million Btu)': 'SpotPrice'\n",
    "}\n",
    "\n",
    "# Replace the column names in the DataFrame\n",
    "merged_data.rename(columns=data, inplace=True)\n",
    "merged_data.columns"
   ]
  },
  {
   "cell_type": "markdown",
   "id": "b735d658",
   "metadata": {},
   "source": [
    "## CORRELATION MATRIX"
   ]
  },
  {
   "cell_type": "code",
   "execution_count": 76,
   "id": "8e5677b4",
   "metadata": {},
   "outputs": [
    {
     "data": {
      "application/vnd.plotly.v1+json": {
       "config": {
        "plotlyServerURL": "https://plot.ly"
       },
       "data": [
        {
         "coloraxis": "coloraxis",
         "hovertemplate": "x: %{x}<br>y: %{y}<br>color: %{z}<extra></extra>",
         "name": "0",
         "type": "heatmap",
         "x": [
          "MarketedProduction",
          "GrossWithdrawals",
          "PlantLiquidsProduction",
          "DryGasProduction",
          "TotalConsumption",
          "LeasePlantFuelConsumption",
          "PipelineDistributionUse",
          "DeliveredToConsumers",
          "ResidentialConsumption",
          "CommercialConsumption",
          "IndustrialConsumption",
          "VehicleFuelConsumption",
          "ElectricPowerConsumption",
          "Imports",
          "PipelineImports",
          "LNGImports",
          "Exports",
          "PipelineExports",
          "LNGExports",
          "SpotPrice"
         ],
         "xaxis": "x",
         "y": [
          "MarketedProduction",
          "GrossWithdrawals",
          "PlantLiquidsProduction",
          "DryGasProduction",
          "TotalConsumption",
          "LeasePlantFuelConsumption",
          "PipelineDistributionUse",
          "DeliveredToConsumers",
          "ResidentialConsumption",
          "CommercialConsumption",
          "IndustrialConsumption",
          "VehicleFuelConsumption",
          "ElectricPowerConsumption",
          "Imports",
          "PipelineImports",
          "LNGImports",
          "Exports",
          "PipelineExports",
          "LNGExports",
          "SpotPrice"
         ],
         "yaxis": "y",
         "z": [
          [
           1,
           0.9974704126432619,
           0.987019176310407,
           0.999756132184625,
           0.4371482469088468,
           0.9887416819560162,
           0.6518514836254241,
           0.3898109296979555,
           -0.028528292561795524,
           0.0174138729415012,
           0.6640831037385553,
           0.9279673341597349,
           0.6462156597061676,
           -0.45440426439923287,
           -0.31389188662251555,
           -0.6711416118470251,
           0.9323562307629683,
           0.9294201881316349,
           0.8871622537770881,
           0.06486864726657225
          ],
          [
           0.9974704126432619,
           1,
           0.9841117835874712,
           0.9972836355728418,
           0.4634727349540653,
           0.9845811221332169,
           0.6732582282378339,
           0.4168423378405706,
           0.01198862647775863,
           0.057253128685407266,
           0.6863210366470927,
           0.9238649195211872,
           0.6120445724262779,
           -0.42520975912227016,
           -0.2866003571655541,
           -0.6461483909867018,
           0.9374133952418545,
           0.9314284826240806,
           0.8934880452656047,
           0.06472764734850348
          ],
          [
           0.987019176310407,
           0.9841117835874712,
           1,
           0.9832318274965502,
           0.4436927014319103,
           0.9737392574820259,
           0.6631793270891874,
           0.39685811524668874,
           -0.01154605516893904,
           0.03193839782385193,
           0.6584077194598755,
           0.9360579887621453,
           0.6289038707507412,
           -0.4351560453081288,
           -0.2908623328351556,
           -0.6674723895082515,
           0.9515369326543605,
           0.9395663267520652,
           0.9098919519564579,
           0.11717021962262231
          ],
          [
           0.999756132184625,
           0.9972836355728418,
           0.9832318274965502,
           1,
           0.4353615643721073,
           0.988798632825974,
           0.648971466986605,
           0.38805115834746556,
           -0.03080541882477868,
           0.015381484735324939,
           0.663516312599425,
           0.9249721948159453,
           0.6472849659128888,
           -0.45612912553729923,
           -0.31642175505675163,
           -0.6702845993002978,
           0.9278273047024199,
           0.9261394927505598,
           0.8822370202571129,
           0.05754537522308947
          ],
          [
           0.4371482469088468,
           0.4634727349540653,
           0.4436927014319103,
           0.4353615643721073,
           1,
           0.4222818145369676,
           0.8869336594635335,
           0.9985023466504511,
           0.8395818374679198,
           0.8578162080787984,
           0.8953111267688773,
           0.4351149037129694,
           0.06386924077996785,
           0.2815774064803503,
           0.4188797116012229,
           -0.15452713514925426,
           0.47720535720325974,
           0.5083325925092208,
           0.4377846226840035,
           0.03629572137223529
          ],
          [
           0.9887416819560162,
           0.9845811221332169,
           0.9737392574820259,
           0.988798632825974,
           0.4222818145369676,
           1,
           0.6352098757948758,
           0.37436969852130764,
           -0.039989610671101024,
           0.007978231634335574,
           0.6576584963551363,
           0.9048276261152228,
           0.6382170747916334,
           -0.46557690524397044,
           -0.31655191126597226,
           -0.700438096110624,
           0.913361904909566,
           0.9063861361032562,
           0.8711362194607501,
           0.0992542650171315
          ],
          [
           0.6518514836254241,
           0.6732582282378339,
           0.6631793270891874,
           0.648971466986605,
           0.8869336594635335,
           0.6352098757948758,
           1,
           0.8646384986450854,
           0.6283716706530524,
           0.6494093173610362,
           0.8416193896428559,
           0.5685788992969664,
           0.23760167985818118,
           0.13865225995770497,
           0.2785616986343893,
           -0.25974036586881133,
           0.7425353231414267,
           0.6780535822966306,
           0.7375594175185729,
           0.1933028976466463
          ],
          [
           0.3898109296979555,
           0.4168423378405706,
           0.39685811524668874,
           0.38805115834746556,
           0.9985023466504511,
           0.37436969852130764,
           0.8646384986450854,
           1,
           0.8606201708572222,
           0.8768714942328976,
           0.8797628301406468,
           0.39507730545018116,
           0.029194267731978828,
           0.31139170203633765,
           0.44374075289079595,
           -0.12134733415481117,
           0.4312620788185672,
           0.4674151405559687,
           0.39163184418178704,
           0.025269425896975978
          ],
          [
           -0.028528292561795524,
           0.01198862647775863,
           -0.01154605516893904,
           -0.03080541882477868,
           0.8395818374679198,
           -0.039989610671101024,
           0.6283716706530524,
           0.8606201708572222,
           1,
           0.9961944412616514,
           0.660234610575897,
           -0.0028713804808678032,
           -0.4762025589391072,
           0.49014897030495924,
           0.5508434355552967,
           0.18422582909837829,
           0.0725647001598596,
           0.07794892852663597,
           0.06623321694992426,
           0.01973744842744409
          ],
          [
           0.0174138729415012,
           0.057253128685407266,
           0.03193839782385193,
           0.015381484735324939,
           0.8578162080787984,
           0.007978231634335574,
           0.6494093173610362,
           0.8768714942328976,
           0.9961944412616514,
           1,
           0.7003796193344147,
           0.042669930532496625,
           -0.45153515608138683,
           0.46245043544317815,
           0.5329582832687781,
           0.14014210656333106,
           0.10898718096720587,
           0.12018050309722851,
           0.09793556213012701,
           0.026661175264182237
          ],
          [
           0.6640831037385553,
           0.6863210366470927,
           0.6584077194598755,
           0.663516312599425,
           0.8953111267688773,
           0.6576584963551363,
           0.8416193896428559,
           0.8797628301406468,
           0.660234610575897,
           0.7003796193344147,
           1,
           0.6834792110312892,
           0.13996523915499523,
           0.007930934366794797,
           0.17342838969525837,
           -0.41527822821098676,
           0.6558101226226567,
           0.7199544503956806,
           0.5909719685597618,
           -0.015828808984333257
          ],
          [
           0.9279673341597349,
           0.9238649195211872,
           0.9360579887621453,
           0.9249721948159453,
           0.4351149037129694,
           0.9048276261152228,
           0.5685788992969664,
           0.39507730545018116,
           -0.0028713804808678032,
           0.042669930532496625,
           0.6834792110312892,
           1,
           0.5974177719759824,
           -0.3947008953601035,
           -0.24540794373624783,
           -0.6523344957933389,
           0.8729910021373111,
           0.9425828000463141,
           0.7945706899317977,
           -0.03024470012427458
          ],
          [
           0.6462156597061676,
           0.6120445724262779,
           0.6289038707507412,
           0.6472849659128888,
           0.06386924077996785,
           0.6382170747916334,
           0.23760167985818118,
           0.029194267731978828,
           -0.4762025589391072,
           -0.45153515608138683,
           0.13996523915499523,
           0.5974177719759824,
           1,
           -0.35051560234391677,
           -0.2557210541007776,
           -0.48295912909914424,
           0.5310945564158525,
           0.5723738373758724,
           0.4839320623296962,
           0.012587555403724752
          ],
          [
           -0.45440426439923287,
           -0.42520975912227016,
           -0.4351560453081288,
           -0.45612912553729923,
           0.2815774064803503,
           -0.46557690524397044,
           0.13865225995770497,
           0.31139170203633765,
           0.49014897030495924,
           0.46245043544317815,
           0.007930934366794797,
           -0.3947008953601035,
           -0.35051560234391677,
           1,
           0.9681541713151119,
           0.7717820524992197,
           -0.2749369692607146,
           -0.3627058680720847,
           -0.21735231905744443,
           0.2588769506989487
          ],
          [
           -0.31389188662251555,
           -0.2866003571655541,
           -0.2908623328351556,
           -0.31642175505675163,
           0.4188797116012229,
           -0.31655191126597226,
           0.2785616986343893,
           0.44374075289079595,
           0.5508434355552967,
           0.5329582832687781,
           0.17342838969525837,
           -0.24540794373624783,
           -0.2557210541007776,
           0.9681541713151119,
           1,
           0.5880068283757833,
           -0.1396900909897739,
           -0.21215795138188104,
           -0.09650980291382426,
           0.2782549698793448
          ],
          [
           -0.6711416118470251,
           -0.6461483909867018,
           -0.6674723895082515,
           -0.6702845993002978,
           -0.15452713514925426,
           -0.700438096110624,
           -0.25974036586881133,
           -0.12134733415481117,
           0.18422582909837829,
           0.14014210656333106,
           -0.41527822821098676,
           -0.6523344957933389,
           -0.48295912909914424,
           0.7717820524992197,
           0.5880068283757833,
           1,
           -0.5336888088391494,
           -0.6332818076232383,
           -0.4572617472067703,
           0.12969261094583434
          ],
          [
           0.9323562307629683,
           0.9374133952418545,
           0.9515369326543605,
           0.9278273047024199,
           0.47720535720325974,
           0.913361904909566,
           0.7425353231414267,
           0.4312620788185672,
           0.0725647001598596,
           0.10898718096720587,
           0.6558101226226567,
           0.8729910021373111,
           0.5310945564158525,
           -0.2749369692607146,
           -0.1396900909897739,
           -0.5336888088391494,
           1,
           0.9325411164106673,
           0.9836307662347846,
           0.18619636595406353
          ],
          [
           0.9294201881316349,
           0.9314284826240806,
           0.9395663267520652,
           0.9261394927505598,
           0.5083325925092208,
           0.9063861361032562,
           0.6780535822966306,
           0.4674151405559687,
           0.07794892852663597,
           0.12018050309722851,
           0.7199544503956806,
           0.9425828000463141,
           0.5723738373758724,
           -0.3627058680720847,
           -0.21215795138188104,
           -0.6332818076232383,
           0.9325411164106673,
           1,
           0.8522139728578216,
           -0.02153076005648972
          ],
          [
           0.8871622537770881,
           0.8934880452656047,
           0.9098919519564579,
           0.8822370202571129,
           0.4377846226840035,
           0.8711362194607501,
           0.7375594175185729,
           0.39163184418178704,
           0.06623321694992426,
           0.09793556213012701,
           0.5909719685597618,
           0.7945706899317977,
           0.4839320623296962,
           -0.21735231905744443,
           -0.09650980291382426,
           -0.4572617472067703,
           0.9836307662347846,
           0.8522139728578216,
           1,
           0.2805796540936679
          ],
          [
           0.06486864726657225,
           0.06472764734850348,
           0.11717021962262231,
           0.05754537522308947,
           0.03629572137223529,
           0.0992542650171315,
           0.1933028976466463,
           0.025269425896975978,
           0.01973744842744409,
           0.026661175264182237,
           -0.015828808984333257,
           -0.03024470012427458,
           0.012587555403724752,
           0.2588769506989487,
           0.2782549698793448,
           0.12969261094583434,
           0.18619636595406353,
           -0.02153076005648972,
           0.2805796540936679,
           1
          ]
         ]
        }
       ],
       "layout": {
        "coloraxis": {
         "colorbar": {
          "title": {
           "text": "Correlation"
          }
         },
         "colorscale": [
          [
           0,
           "#440154"
          ],
          [
           0.1111111111111111,
           "#482878"
          ],
          [
           0.2222222222222222,
           "#3e4989"
          ],
          [
           0.3333333333333333,
           "#31688e"
          ],
          [
           0.4444444444444444,
           "#26828e"
          ],
          [
           0.5555555555555556,
           "#1f9e89"
          ],
          [
           0.6666666666666666,
           "#35b779"
          ],
          [
           0.7777777777777778,
           "#6ece58"
          ],
          [
           0.8888888888888888,
           "#b5de2b"
          ],
          [
           1,
           "#fde725"
          ]
         ]
        },
        "height": 800,
        "template": {
         "data": {
          "bar": [
           {
            "error_x": {
             "color": "#2a3f5f"
            },
            "error_y": {
             "color": "#2a3f5f"
            },
            "marker": {
             "line": {
              "color": "#E5ECF6",
              "width": 0.5
             },
             "pattern": {
              "fillmode": "overlay",
              "size": 10,
              "solidity": 0.2
             }
            },
            "type": "bar"
           }
          ],
          "barpolar": [
           {
            "marker": {
             "line": {
              "color": "#E5ECF6",
              "width": 0.5
             },
             "pattern": {
              "fillmode": "overlay",
              "size": 10,
              "solidity": 0.2
             }
            },
            "type": "barpolar"
           }
          ],
          "carpet": [
           {
            "aaxis": {
             "endlinecolor": "#2a3f5f",
             "gridcolor": "white",
             "linecolor": "white",
             "minorgridcolor": "white",
             "startlinecolor": "#2a3f5f"
            },
            "baxis": {
             "endlinecolor": "#2a3f5f",
             "gridcolor": "white",
             "linecolor": "white",
             "minorgridcolor": "white",
             "startlinecolor": "#2a3f5f"
            },
            "type": "carpet"
           }
          ],
          "choropleth": [
           {
            "colorbar": {
             "outlinewidth": 0,
             "ticks": ""
            },
            "type": "choropleth"
           }
          ],
          "contour": [
           {
            "colorbar": {
             "outlinewidth": 0,
             "ticks": ""
            },
            "colorscale": [
             [
              0,
              "#0d0887"
             ],
             [
              0.1111111111111111,
              "#46039f"
             ],
             [
              0.2222222222222222,
              "#7201a8"
             ],
             [
              0.3333333333333333,
              "#9c179e"
             ],
             [
              0.4444444444444444,
              "#bd3786"
             ],
             [
              0.5555555555555556,
              "#d8576b"
             ],
             [
              0.6666666666666666,
              "#ed7953"
             ],
             [
              0.7777777777777778,
              "#fb9f3a"
             ],
             [
              0.8888888888888888,
              "#fdca26"
             ],
             [
              1,
              "#f0f921"
             ]
            ],
            "type": "contour"
           }
          ],
          "contourcarpet": [
           {
            "colorbar": {
             "outlinewidth": 0,
             "ticks": ""
            },
            "type": "contourcarpet"
           }
          ],
          "heatmap": [
           {
            "colorbar": {
             "outlinewidth": 0,
             "ticks": ""
            },
            "colorscale": [
             [
              0,
              "#0d0887"
             ],
             [
              0.1111111111111111,
              "#46039f"
             ],
             [
              0.2222222222222222,
              "#7201a8"
             ],
             [
              0.3333333333333333,
              "#9c179e"
             ],
             [
              0.4444444444444444,
              "#bd3786"
             ],
             [
              0.5555555555555556,
              "#d8576b"
             ],
             [
              0.6666666666666666,
              "#ed7953"
             ],
             [
              0.7777777777777778,
              "#fb9f3a"
             ],
             [
              0.8888888888888888,
              "#fdca26"
             ],
             [
              1,
              "#f0f921"
             ]
            ],
            "type": "heatmap"
           }
          ],
          "heatmapgl": [
           {
            "colorbar": {
             "outlinewidth": 0,
             "ticks": ""
            },
            "colorscale": [
             [
              0,
              "#0d0887"
             ],
             [
              0.1111111111111111,
              "#46039f"
             ],
             [
              0.2222222222222222,
              "#7201a8"
             ],
             [
              0.3333333333333333,
              "#9c179e"
             ],
             [
              0.4444444444444444,
              "#bd3786"
             ],
             [
              0.5555555555555556,
              "#d8576b"
             ],
             [
              0.6666666666666666,
              "#ed7953"
             ],
             [
              0.7777777777777778,
              "#fb9f3a"
             ],
             [
              0.8888888888888888,
              "#fdca26"
             ],
             [
              1,
              "#f0f921"
             ]
            ],
            "type": "heatmapgl"
           }
          ],
          "histogram": [
           {
            "marker": {
             "pattern": {
              "fillmode": "overlay",
              "size": 10,
              "solidity": 0.2
             }
            },
            "type": "histogram"
           }
          ],
          "histogram2d": [
           {
            "colorbar": {
             "outlinewidth": 0,
             "ticks": ""
            },
            "colorscale": [
             [
              0,
              "#0d0887"
             ],
             [
              0.1111111111111111,
              "#46039f"
             ],
             [
              0.2222222222222222,
              "#7201a8"
             ],
             [
              0.3333333333333333,
              "#9c179e"
             ],
             [
              0.4444444444444444,
              "#bd3786"
             ],
             [
              0.5555555555555556,
              "#d8576b"
             ],
             [
              0.6666666666666666,
              "#ed7953"
             ],
             [
              0.7777777777777778,
              "#fb9f3a"
             ],
             [
              0.8888888888888888,
              "#fdca26"
             ],
             [
              1,
              "#f0f921"
             ]
            ],
            "type": "histogram2d"
           }
          ],
          "histogram2dcontour": [
           {
            "colorbar": {
             "outlinewidth": 0,
             "ticks": ""
            },
            "colorscale": [
             [
              0,
              "#0d0887"
             ],
             [
              0.1111111111111111,
              "#46039f"
             ],
             [
              0.2222222222222222,
              "#7201a8"
             ],
             [
              0.3333333333333333,
              "#9c179e"
             ],
             [
              0.4444444444444444,
              "#bd3786"
             ],
             [
              0.5555555555555556,
              "#d8576b"
             ],
             [
              0.6666666666666666,
              "#ed7953"
             ],
             [
              0.7777777777777778,
              "#fb9f3a"
             ],
             [
              0.8888888888888888,
              "#fdca26"
             ],
             [
              1,
              "#f0f921"
             ]
            ],
            "type": "histogram2dcontour"
           }
          ],
          "mesh3d": [
           {
            "colorbar": {
             "outlinewidth": 0,
             "ticks": ""
            },
            "type": "mesh3d"
           }
          ],
          "parcoords": [
           {
            "line": {
             "colorbar": {
              "outlinewidth": 0,
              "ticks": ""
             }
            },
            "type": "parcoords"
           }
          ],
          "pie": [
           {
            "automargin": true,
            "type": "pie"
           }
          ],
          "scatter": [
           {
            "fillpattern": {
             "fillmode": "overlay",
             "size": 10,
             "solidity": 0.2
            },
            "type": "scatter"
           }
          ],
          "scatter3d": [
           {
            "line": {
             "colorbar": {
              "outlinewidth": 0,
              "ticks": ""
             }
            },
            "marker": {
             "colorbar": {
              "outlinewidth": 0,
              "ticks": ""
             }
            },
            "type": "scatter3d"
           }
          ],
          "scattercarpet": [
           {
            "marker": {
             "colorbar": {
              "outlinewidth": 0,
              "ticks": ""
             }
            },
            "type": "scattercarpet"
           }
          ],
          "scattergeo": [
           {
            "marker": {
             "colorbar": {
              "outlinewidth": 0,
              "ticks": ""
             }
            },
            "type": "scattergeo"
           }
          ],
          "scattergl": [
           {
            "marker": {
             "colorbar": {
              "outlinewidth": 0,
              "ticks": ""
             }
            },
            "type": "scattergl"
           }
          ],
          "scattermapbox": [
           {
            "marker": {
             "colorbar": {
              "outlinewidth": 0,
              "ticks": ""
             }
            },
            "type": "scattermapbox"
           }
          ],
          "scatterpolar": [
           {
            "marker": {
             "colorbar": {
              "outlinewidth": 0,
              "ticks": ""
             }
            },
            "type": "scatterpolar"
           }
          ],
          "scatterpolargl": [
           {
            "marker": {
             "colorbar": {
              "outlinewidth": 0,
              "ticks": ""
             }
            },
            "type": "scatterpolargl"
           }
          ],
          "scatterternary": [
           {
            "marker": {
             "colorbar": {
              "outlinewidth": 0,
              "ticks": ""
             }
            },
            "type": "scatterternary"
           }
          ],
          "surface": [
           {
            "colorbar": {
             "outlinewidth": 0,
             "ticks": ""
            },
            "colorscale": [
             [
              0,
              "#0d0887"
             ],
             [
              0.1111111111111111,
              "#46039f"
             ],
             [
              0.2222222222222222,
              "#7201a8"
             ],
             [
              0.3333333333333333,
              "#9c179e"
             ],
             [
              0.4444444444444444,
              "#bd3786"
             ],
             [
              0.5555555555555556,
              "#d8576b"
             ],
             [
              0.6666666666666666,
              "#ed7953"
             ],
             [
              0.7777777777777778,
              "#fb9f3a"
             ],
             [
              0.8888888888888888,
              "#fdca26"
             ],
             [
              1,
              "#f0f921"
             ]
            ],
            "type": "surface"
           }
          ],
          "table": [
           {
            "cells": {
             "fill": {
              "color": "#EBF0F8"
             },
             "line": {
              "color": "white"
             }
            },
            "header": {
             "fill": {
              "color": "#C8D4E3"
             },
             "line": {
              "color": "white"
             }
            },
            "type": "table"
           }
          ]
         },
         "layout": {
          "annotationdefaults": {
           "arrowcolor": "#2a3f5f",
           "arrowhead": 0,
           "arrowwidth": 1
          },
          "autotypenumbers": "strict",
          "coloraxis": {
           "colorbar": {
            "outlinewidth": 0,
            "ticks": ""
           }
          },
          "colorscale": {
           "diverging": [
            [
             0,
             "#8e0152"
            ],
            [
             0.1,
             "#c51b7d"
            ],
            [
             0.2,
             "#de77ae"
            ],
            [
             0.3,
             "#f1b6da"
            ],
            [
             0.4,
             "#fde0ef"
            ],
            [
             0.5,
             "#f7f7f7"
            ],
            [
             0.6,
             "#e6f5d0"
            ],
            [
             0.7,
             "#b8e186"
            ],
            [
             0.8,
             "#7fbc41"
            ],
            [
             0.9,
             "#4d9221"
            ],
            [
             1,
             "#276419"
            ]
           ],
           "sequential": [
            [
             0,
             "#0d0887"
            ],
            [
             0.1111111111111111,
             "#46039f"
            ],
            [
             0.2222222222222222,
             "#7201a8"
            ],
            [
             0.3333333333333333,
             "#9c179e"
            ],
            [
             0.4444444444444444,
             "#bd3786"
            ],
            [
             0.5555555555555556,
             "#d8576b"
            ],
            [
             0.6666666666666666,
             "#ed7953"
            ],
            [
             0.7777777777777778,
             "#fb9f3a"
            ],
            [
             0.8888888888888888,
             "#fdca26"
            ],
            [
             1,
             "#f0f921"
            ]
           ],
           "sequentialminus": [
            [
             0,
             "#0d0887"
            ],
            [
             0.1111111111111111,
             "#46039f"
            ],
            [
             0.2222222222222222,
             "#7201a8"
            ],
            [
             0.3333333333333333,
             "#9c179e"
            ],
            [
             0.4444444444444444,
             "#bd3786"
            ],
            [
             0.5555555555555556,
             "#d8576b"
            ],
            [
             0.6666666666666666,
             "#ed7953"
            ],
            [
             0.7777777777777778,
             "#fb9f3a"
            ],
            [
             0.8888888888888888,
             "#fdca26"
            ],
            [
             1,
             "#f0f921"
            ]
           ]
          },
          "colorway": [
           "#636efa",
           "#EF553B",
           "#00cc96",
           "#ab63fa",
           "#FFA15A",
           "#19d3f3",
           "#FF6692",
           "#B6E880",
           "#FF97FF",
           "#FECB52"
          ],
          "font": {
           "color": "#2a3f5f"
          },
          "geo": {
           "bgcolor": "white",
           "lakecolor": "white",
           "landcolor": "#E5ECF6",
           "showlakes": true,
           "showland": true,
           "subunitcolor": "white"
          },
          "hoverlabel": {
           "align": "left"
          },
          "hovermode": "closest",
          "mapbox": {
           "style": "light"
          },
          "paper_bgcolor": "white",
          "plot_bgcolor": "#E5ECF6",
          "polar": {
           "angularaxis": {
            "gridcolor": "white",
            "linecolor": "white",
            "ticks": ""
           },
           "bgcolor": "#E5ECF6",
           "radialaxis": {
            "gridcolor": "white",
            "linecolor": "white",
            "ticks": ""
           }
          },
          "scene": {
           "xaxis": {
            "backgroundcolor": "#E5ECF6",
            "gridcolor": "white",
            "gridwidth": 2,
            "linecolor": "white",
            "showbackground": true,
            "ticks": "",
            "zerolinecolor": "white"
           },
           "yaxis": {
            "backgroundcolor": "#E5ECF6",
            "gridcolor": "white",
            "gridwidth": 2,
            "linecolor": "white",
            "showbackground": true,
            "ticks": "",
            "zerolinecolor": "white"
           },
           "zaxis": {
            "backgroundcolor": "#E5ECF6",
            "gridcolor": "white",
            "gridwidth": 2,
            "linecolor": "white",
            "showbackground": true,
            "ticks": "",
            "zerolinecolor": "white"
           }
          },
          "shapedefaults": {
           "line": {
            "color": "#2a3f5f"
           }
          },
          "ternary": {
           "aaxis": {
            "gridcolor": "white",
            "linecolor": "white",
            "ticks": ""
           },
           "baxis": {
            "gridcolor": "white",
            "linecolor": "white",
            "ticks": ""
           },
           "bgcolor": "#E5ECF6",
           "caxis": {
            "gridcolor": "white",
            "linecolor": "white",
            "ticks": ""
           }
          },
          "title": {
           "x": 0.05
          },
          "xaxis": {
           "automargin": true,
           "gridcolor": "white",
           "linecolor": "white",
           "ticks": "",
           "title": {
            "standoff": 15
           },
           "zerolinecolor": "white",
           "zerolinewidth": 2
          },
          "yaxis": {
           "automargin": true,
           "gridcolor": "white",
           "linecolor": "white",
           "ticks": "",
           "title": {
            "standoff": 15
           },
           "zerolinecolor": "white",
           "zerolinewidth": 2
          }
         }
        },
        "title": {
         "text": "Correlation Matrix for Natural Gas Data"
        },
        "width": 800,
        "xaxis": {
         "anchor": "y",
         "constrain": "domain",
         "domain": [
          0,
          1
         ],
         "scaleanchor": "y"
        },
        "yaxis": {
         "anchor": "x",
         "autorange": "reversed",
         "constrain": "domain",
         "domain": [
          0,
          1
         ]
        }
       }
      },
      "text/html": [
       "<div>                            <div id=\"05fffb31-c442-4086-aa51-85e6c7f92f46\" class=\"plotly-graph-div\" style=\"height:800px; width:800px;\"></div>            <script type=\"text/javascript\">                require([\"plotly\"], function(Plotly) {                    window.PLOTLYENV=window.PLOTLYENV || {};                                    if (document.getElementById(\"05fffb31-c442-4086-aa51-85e6c7f92f46\")) {                    Plotly.newPlot(                        \"05fffb31-c442-4086-aa51-85e6c7f92f46\",                        [{\"coloraxis\":\"coloraxis\",\"name\":\"0\",\"x\":[\"MarketedProduction\",\"GrossWithdrawals\",\"PlantLiquidsProduction\",\"DryGasProduction\",\"TotalConsumption\",\"LeasePlantFuelConsumption\",\"PipelineDistributionUse\",\"DeliveredToConsumers\",\"ResidentialConsumption\",\"CommercialConsumption\",\"IndustrialConsumption\",\"VehicleFuelConsumption\",\"ElectricPowerConsumption\",\"Imports\",\"PipelineImports\",\"LNGImports\",\"Exports\",\"PipelineExports\",\"LNGExports\",\"SpotPrice\"],\"y\":[\"MarketedProduction\",\"GrossWithdrawals\",\"PlantLiquidsProduction\",\"DryGasProduction\",\"TotalConsumption\",\"LeasePlantFuelConsumption\",\"PipelineDistributionUse\",\"DeliveredToConsumers\",\"ResidentialConsumption\",\"CommercialConsumption\",\"IndustrialConsumption\",\"VehicleFuelConsumption\",\"ElectricPowerConsumption\",\"Imports\",\"PipelineImports\",\"LNGImports\",\"Exports\",\"PipelineExports\",\"LNGExports\",\"SpotPrice\"],\"z\":[[1.0,0.9974704126432619,0.987019176310407,0.999756132184625,0.4371482469088468,0.9887416819560162,0.6518514836254241,0.3898109296979555,-0.028528292561795524,0.0174138729415012,0.6640831037385553,0.9279673341597349,0.6462156597061676,-0.45440426439923287,-0.31389188662251555,-0.6711416118470251,0.9323562307629683,0.9294201881316349,0.8871622537770881,0.06486864726657225],[0.9974704126432619,1.0,0.9841117835874712,0.9972836355728418,0.4634727349540653,0.9845811221332169,0.6732582282378339,0.4168423378405706,0.01198862647775863,0.057253128685407266,0.6863210366470927,0.9238649195211872,0.6120445724262779,-0.42520975912227016,-0.2866003571655541,-0.6461483909867018,0.9374133952418545,0.9314284826240806,0.8934880452656047,0.06472764734850348],[0.987019176310407,0.9841117835874712,1.0,0.9832318274965502,0.4436927014319103,0.9737392574820259,0.6631793270891874,0.39685811524668874,-0.01154605516893904,0.03193839782385193,0.6584077194598755,0.9360579887621453,0.6289038707507412,-0.4351560453081288,-0.2908623328351556,-0.6674723895082515,0.9515369326543605,0.9395663267520652,0.9098919519564579,0.11717021962262231],[0.999756132184625,0.9972836355728418,0.9832318274965502,1.0,0.4353615643721073,0.988798632825974,0.648971466986605,0.38805115834746556,-0.03080541882477868,0.015381484735324939,0.663516312599425,0.9249721948159453,0.6472849659128888,-0.45612912553729923,-0.31642175505675163,-0.6702845993002978,0.9278273047024199,0.9261394927505598,0.8822370202571129,0.05754537522308947],[0.4371482469088468,0.4634727349540653,0.4436927014319103,0.4353615643721073,1.0,0.4222818145369676,0.8869336594635335,0.9985023466504511,0.8395818374679198,0.8578162080787984,0.8953111267688773,0.4351149037129694,0.06386924077996785,0.2815774064803503,0.4188797116012229,-0.15452713514925426,0.47720535720325974,0.5083325925092208,0.4377846226840035,0.03629572137223529],[0.9887416819560162,0.9845811221332169,0.9737392574820259,0.988798632825974,0.4222818145369676,1.0,0.6352098757948758,0.37436969852130764,-0.039989610671101024,0.007978231634335574,0.6576584963551363,0.9048276261152228,0.6382170747916334,-0.46557690524397044,-0.31655191126597226,-0.700438096110624,0.913361904909566,0.9063861361032562,0.8711362194607501,0.0992542650171315],[0.6518514836254241,0.6732582282378339,0.6631793270891874,0.648971466986605,0.8869336594635335,0.6352098757948758,1.0,0.8646384986450854,0.6283716706530524,0.6494093173610362,0.8416193896428559,0.5685788992969664,0.23760167985818118,0.13865225995770497,0.2785616986343893,-0.25974036586881133,0.7425353231414267,0.6780535822966306,0.7375594175185729,0.1933028976466463],[0.3898109296979555,0.4168423378405706,0.39685811524668874,0.38805115834746556,0.9985023466504511,0.37436969852130764,0.8646384986450854,1.0,0.8606201708572222,0.8768714942328976,0.8797628301406468,0.39507730545018116,0.029194267731978828,0.31139170203633765,0.44374075289079595,-0.12134733415481117,0.4312620788185672,0.4674151405559687,0.39163184418178704,0.025269425896975978],[-0.028528292561795524,0.01198862647775863,-0.01154605516893904,-0.03080541882477868,0.8395818374679198,-0.039989610671101024,0.6283716706530524,0.8606201708572222,1.0,0.9961944412616514,0.660234610575897,-0.0028713804808678032,-0.4762025589391072,0.49014897030495924,0.5508434355552967,0.18422582909837829,0.0725647001598596,0.07794892852663597,0.06623321694992426,0.01973744842744409],[0.0174138729415012,0.057253128685407266,0.03193839782385193,0.015381484735324939,0.8578162080787984,0.007978231634335574,0.6494093173610362,0.8768714942328976,0.9961944412616514,1.0,0.7003796193344147,0.042669930532496625,-0.45153515608138683,0.46245043544317815,0.5329582832687781,0.14014210656333106,0.10898718096720587,0.12018050309722851,0.09793556213012701,0.026661175264182237],[0.6640831037385553,0.6863210366470927,0.6584077194598755,0.663516312599425,0.8953111267688773,0.6576584963551363,0.8416193896428559,0.8797628301406468,0.660234610575897,0.7003796193344147,1.0,0.6834792110312892,0.13996523915499523,0.007930934366794797,0.17342838969525837,-0.41527822821098676,0.6558101226226567,0.7199544503956806,0.5909719685597618,-0.015828808984333257],[0.9279673341597349,0.9238649195211872,0.9360579887621453,0.9249721948159453,0.4351149037129694,0.9048276261152228,0.5685788992969664,0.39507730545018116,-0.0028713804808678032,0.042669930532496625,0.6834792110312892,1.0,0.5974177719759824,-0.3947008953601035,-0.24540794373624783,-0.6523344957933389,0.8729910021373111,0.9425828000463141,0.7945706899317977,-0.03024470012427458],[0.6462156597061676,0.6120445724262779,0.6289038707507412,0.6472849659128888,0.06386924077996785,0.6382170747916334,0.23760167985818118,0.029194267731978828,-0.4762025589391072,-0.45153515608138683,0.13996523915499523,0.5974177719759824,1.0,-0.35051560234391677,-0.2557210541007776,-0.48295912909914424,0.5310945564158525,0.5723738373758724,0.4839320623296962,0.012587555403724752],[-0.45440426439923287,-0.42520975912227016,-0.4351560453081288,-0.45612912553729923,0.2815774064803503,-0.46557690524397044,0.13865225995770497,0.31139170203633765,0.49014897030495924,0.46245043544317815,0.007930934366794797,-0.3947008953601035,-0.35051560234391677,1.0,0.9681541713151119,0.7717820524992197,-0.2749369692607146,-0.3627058680720847,-0.21735231905744443,0.2588769506989487],[-0.31389188662251555,-0.2866003571655541,-0.2908623328351556,-0.31642175505675163,0.4188797116012229,-0.31655191126597226,0.2785616986343893,0.44374075289079595,0.5508434355552967,0.5329582832687781,0.17342838969525837,-0.24540794373624783,-0.2557210541007776,0.9681541713151119,1.0,0.5880068283757833,-0.1396900909897739,-0.21215795138188104,-0.09650980291382426,0.2782549698793448],[-0.6711416118470251,-0.6461483909867018,-0.6674723895082515,-0.6702845993002978,-0.15452713514925426,-0.700438096110624,-0.25974036586881133,-0.12134733415481117,0.18422582909837829,0.14014210656333106,-0.41527822821098676,-0.6523344957933389,-0.48295912909914424,0.7717820524992197,0.5880068283757833,1.0,-0.5336888088391494,-0.6332818076232383,-0.4572617472067703,0.12969261094583434],[0.9323562307629683,0.9374133952418545,0.9515369326543605,0.9278273047024199,0.47720535720325974,0.913361904909566,0.7425353231414267,0.4312620788185672,0.0725647001598596,0.10898718096720587,0.6558101226226567,0.8729910021373111,0.5310945564158525,-0.2749369692607146,-0.1396900909897739,-0.5336888088391494,1.0,0.9325411164106673,0.9836307662347846,0.18619636595406353],[0.9294201881316349,0.9314284826240806,0.9395663267520652,0.9261394927505598,0.5083325925092208,0.9063861361032562,0.6780535822966306,0.4674151405559687,0.07794892852663597,0.12018050309722851,0.7199544503956806,0.9425828000463141,0.5723738373758724,-0.3627058680720847,-0.21215795138188104,-0.6332818076232383,0.9325411164106673,1.0,0.8522139728578216,-0.02153076005648972],[0.8871622537770881,0.8934880452656047,0.9098919519564579,0.8822370202571129,0.4377846226840035,0.8711362194607501,0.7375594175185729,0.39163184418178704,0.06623321694992426,0.09793556213012701,0.5909719685597618,0.7945706899317977,0.4839320623296962,-0.21735231905744443,-0.09650980291382426,-0.4572617472067703,0.9836307662347846,0.8522139728578216,1.0,0.2805796540936679],[0.06486864726657225,0.06472764734850348,0.11717021962262231,0.05754537522308947,0.03629572137223529,0.0992542650171315,0.1933028976466463,0.025269425896975978,0.01973744842744409,0.026661175264182237,-0.015828808984333257,-0.03024470012427458,0.012587555403724752,0.2588769506989487,0.2782549698793448,0.12969261094583434,0.18619636595406353,-0.02153076005648972,0.2805796540936679,1.0]],\"type\":\"heatmap\",\"xaxis\":\"x\",\"yaxis\":\"y\",\"hovertemplate\":\"x: %{x}<br>y: %{y}<br>color: %{z}<extra></extra>\"}],                        {\"template\":{\"data\":{\"histogram2dcontour\":[{\"type\":\"histogram2dcontour\",\"colorbar\":{\"outlinewidth\":0,\"ticks\":\"\"},\"colorscale\":[[0.0,\"#0d0887\"],[0.1111111111111111,\"#46039f\"],[0.2222222222222222,\"#7201a8\"],[0.3333333333333333,\"#9c179e\"],[0.4444444444444444,\"#bd3786\"],[0.5555555555555556,\"#d8576b\"],[0.6666666666666666,\"#ed7953\"],[0.7777777777777778,\"#fb9f3a\"],[0.8888888888888888,\"#fdca26\"],[1.0,\"#f0f921\"]]}],\"choropleth\":[{\"type\":\"choropleth\",\"colorbar\":{\"outlinewidth\":0,\"ticks\":\"\"}}],\"histogram2d\":[{\"type\":\"histogram2d\",\"colorbar\":{\"outlinewidth\":0,\"ticks\":\"\"},\"colorscale\":[[0.0,\"#0d0887\"],[0.1111111111111111,\"#46039f\"],[0.2222222222222222,\"#7201a8\"],[0.3333333333333333,\"#9c179e\"],[0.4444444444444444,\"#bd3786\"],[0.5555555555555556,\"#d8576b\"],[0.6666666666666666,\"#ed7953\"],[0.7777777777777778,\"#fb9f3a\"],[0.8888888888888888,\"#fdca26\"],[1.0,\"#f0f921\"]]}],\"heatmap\":[{\"type\":\"heatmap\",\"colorbar\":{\"outlinewidth\":0,\"ticks\":\"\"},\"colorscale\":[[0.0,\"#0d0887\"],[0.1111111111111111,\"#46039f\"],[0.2222222222222222,\"#7201a8\"],[0.3333333333333333,\"#9c179e\"],[0.4444444444444444,\"#bd3786\"],[0.5555555555555556,\"#d8576b\"],[0.6666666666666666,\"#ed7953\"],[0.7777777777777778,\"#fb9f3a\"],[0.8888888888888888,\"#fdca26\"],[1.0,\"#f0f921\"]]}],\"heatmapgl\":[{\"type\":\"heatmapgl\",\"colorbar\":{\"outlinewidth\":0,\"ticks\":\"\"},\"colorscale\":[[0.0,\"#0d0887\"],[0.1111111111111111,\"#46039f\"],[0.2222222222222222,\"#7201a8\"],[0.3333333333333333,\"#9c179e\"],[0.4444444444444444,\"#bd3786\"],[0.5555555555555556,\"#d8576b\"],[0.6666666666666666,\"#ed7953\"],[0.7777777777777778,\"#fb9f3a\"],[0.8888888888888888,\"#fdca26\"],[1.0,\"#f0f921\"]]}],\"contourcarpet\":[{\"type\":\"contourcarpet\",\"colorbar\":{\"outlinewidth\":0,\"ticks\":\"\"}}],\"contour\":[{\"type\":\"contour\",\"colorbar\":{\"outlinewidth\":0,\"ticks\":\"\"},\"colorscale\":[[0.0,\"#0d0887\"],[0.1111111111111111,\"#46039f\"],[0.2222222222222222,\"#7201a8\"],[0.3333333333333333,\"#9c179e\"],[0.4444444444444444,\"#bd3786\"],[0.5555555555555556,\"#d8576b\"],[0.6666666666666666,\"#ed7953\"],[0.7777777777777778,\"#fb9f3a\"],[0.8888888888888888,\"#fdca26\"],[1.0,\"#f0f921\"]]}],\"surface\":[{\"type\":\"surface\",\"colorbar\":{\"outlinewidth\":0,\"ticks\":\"\"},\"colorscale\":[[0.0,\"#0d0887\"],[0.1111111111111111,\"#46039f\"],[0.2222222222222222,\"#7201a8\"],[0.3333333333333333,\"#9c179e\"],[0.4444444444444444,\"#bd3786\"],[0.5555555555555556,\"#d8576b\"],[0.6666666666666666,\"#ed7953\"],[0.7777777777777778,\"#fb9f3a\"],[0.8888888888888888,\"#fdca26\"],[1.0,\"#f0f921\"]]}],\"mesh3d\":[{\"type\":\"mesh3d\",\"colorbar\":{\"outlinewidth\":0,\"ticks\":\"\"}}],\"scatter\":[{\"fillpattern\":{\"fillmode\":\"overlay\",\"size\":10,\"solidity\":0.2},\"type\":\"scatter\"}],\"parcoords\":[{\"type\":\"parcoords\",\"line\":{\"colorbar\":{\"outlinewidth\":0,\"ticks\":\"\"}}}],\"scatterpolargl\":[{\"type\":\"scatterpolargl\",\"marker\":{\"colorbar\":{\"outlinewidth\":0,\"ticks\":\"\"}}}],\"bar\":[{\"error_x\":{\"color\":\"#2a3f5f\"},\"error_y\":{\"color\":\"#2a3f5f\"},\"marker\":{\"line\":{\"color\":\"#E5ECF6\",\"width\":0.5},\"pattern\":{\"fillmode\":\"overlay\",\"size\":10,\"solidity\":0.2}},\"type\":\"bar\"}],\"scattergeo\":[{\"type\":\"scattergeo\",\"marker\":{\"colorbar\":{\"outlinewidth\":0,\"ticks\":\"\"}}}],\"scatterpolar\":[{\"type\":\"scatterpolar\",\"marker\":{\"colorbar\":{\"outlinewidth\":0,\"ticks\":\"\"}}}],\"histogram\":[{\"marker\":{\"pattern\":{\"fillmode\":\"overlay\",\"size\":10,\"solidity\":0.2}},\"type\":\"histogram\"}],\"scattergl\":[{\"type\":\"scattergl\",\"marker\":{\"colorbar\":{\"outlinewidth\":0,\"ticks\":\"\"}}}],\"scatter3d\":[{\"type\":\"scatter3d\",\"line\":{\"colorbar\":{\"outlinewidth\":0,\"ticks\":\"\"}},\"marker\":{\"colorbar\":{\"outlinewidth\":0,\"ticks\":\"\"}}}],\"scattermapbox\":[{\"type\":\"scattermapbox\",\"marker\":{\"colorbar\":{\"outlinewidth\":0,\"ticks\":\"\"}}}],\"scatterternary\":[{\"type\":\"scatterternary\",\"marker\":{\"colorbar\":{\"outlinewidth\":0,\"ticks\":\"\"}}}],\"scattercarpet\":[{\"type\":\"scattercarpet\",\"marker\":{\"colorbar\":{\"outlinewidth\":0,\"ticks\":\"\"}}}],\"carpet\":[{\"aaxis\":{\"endlinecolor\":\"#2a3f5f\",\"gridcolor\":\"white\",\"linecolor\":\"white\",\"minorgridcolor\":\"white\",\"startlinecolor\":\"#2a3f5f\"},\"baxis\":{\"endlinecolor\":\"#2a3f5f\",\"gridcolor\":\"white\",\"linecolor\":\"white\",\"minorgridcolor\":\"white\",\"startlinecolor\":\"#2a3f5f\"},\"type\":\"carpet\"}],\"table\":[{\"cells\":{\"fill\":{\"color\":\"#EBF0F8\"},\"line\":{\"color\":\"white\"}},\"header\":{\"fill\":{\"color\":\"#C8D4E3\"},\"line\":{\"color\":\"white\"}},\"type\":\"table\"}],\"barpolar\":[{\"marker\":{\"line\":{\"color\":\"#E5ECF6\",\"width\":0.5},\"pattern\":{\"fillmode\":\"overlay\",\"size\":10,\"solidity\":0.2}},\"type\":\"barpolar\"}],\"pie\":[{\"automargin\":true,\"type\":\"pie\"}]},\"layout\":{\"autotypenumbers\":\"strict\",\"colorway\":[\"#636efa\",\"#EF553B\",\"#00cc96\",\"#ab63fa\",\"#FFA15A\",\"#19d3f3\",\"#FF6692\",\"#B6E880\",\"#FF97FF\",\"#FECB52\"],\"font\":{\"color\":\"#2a3f5f\"},\"hovermode\":\"closest\",\"hoverlabel\":{\"align\":\"left\"},\"paper_bgcolor\":\"white\",\"plot_bgcolor\":\"#E5ECF6\",\"polar\":{\"bgcolor\":\"#E5ECF6\",\"angularaxis\":{\"gridcolor\":\"white\",\"linecolor\":\"white\",\"ticks\":\"\"},\"radialaxis\":{\"gridcolor\":\"white\",\"linecolor\":\"white\",\"ticks\":\"\"}},\"ternary\":{\"bgcolor\":\"#E5ECF6\",\"aaxis\":{\"gridcolor\":\"white\",\"linecolor\":\"white\",\"ticks\":\"\"},\"baxis\":{\"gridcolor\":\"white\",\"linecolor\":\"white\",\"ticks\":\"\"},\"caxis\":{\"gridcolor\":\"white\",\"linecolor\":\"white\",\"ticks\":\"\"}},\"coloraxis\":{\"colorbar\":{\"outlinewidth\":0,\"ticks\":\"\"}},\"colorscale\":{\"sequential\":[[0.0,\"#0d0887\"],[0.1111111111111111,\"#46039f\"],[0.2222222222222222,\"#7201a8\"],[0.3333333333333333,\"#9c179e\"],[0.4444444444444444,\"#bd3786\"],[0.5555555555555556,\"#d8576b\"],[0.6666666666666666,\"#ed7953\"],[0.7777777777777778,\"#fb9f3a\"],[0.8888888888888888,\"#fdca26\"],[1.0,\"#f0f921\"]],\"sequentialminus\":[[0.0,\"#0d0887\"],[0.1111111111111111,\"#46039f\"],[0.2222222222222222,\"#7201a8\"],[0.3333333333333333,\"#9c179e\"],[0.4444444444444444,\"#bd3786\"],[0.5555555555555556,\"#d8576b\"],[0.6666666666666666,\"#ed7953\"],[0.7777777777777778,\"#fb9f3a\"],[0.8888888888888888,\"#fdca26\"],[1.0,\"#f0f921\"]],\"diverging\":[[0,\"#8e0152\"],[0.1,\"#c51b7d\"],[0.2,\"#de77ae\"],[0.3,\"#f1b6da\"],[0.4,\"#fde0ef\"],[0.5,\"#f7f7f7\"],[0.6,\"#e6f5d0\"],[0.7,\"#b8e186\"],[0.8,\"#7fbc41\"],[0.9,\"#4d9221\"],[1,\"#276419\"]]},\"xaxis\":{\"gridcolor\":\"white\",\"linecolor\":\"white\",\"ticks\":\"\",\"title\":{\"standoff\":15},\"zerolinecolor\":\"white\",\"automargin\":true,\"zerolinewidth\":2},\"yaxis\":{\"gridcolor\":\"white\",\"linecolor\":\"white\",\"ticks\":\"\",\"title\":{\"standoff\":15},\"zerolinecolor\":\"white\",\"automargin\":true,\"zerolinewidth\":2},\"scene\":{\"xaxis\":{\"backgroundcolor\":\"#E5ECF6\",\"gridcolor\":\"white\",\"linecolor\":\"white\",\"showbackground\":true,\"ticks\":\"\",\"zerolinecolor\":\"white\",\"gridwidth\":2},\"yaxis\":{\"backgroundcolor\":\"#E5ECF6\",\"gridcolor\":\"white\",\"linecolor\":\"white\",\"showbackground\":true,\"ticks\":\"\",\"zerolinecolor\":\"white\",\"gridwidth\":2},\"zaxis\":{\"backgroundcolor\":\"#E5ECF6\",\"gridcolor\":\"white\",\"linecolor\":\"white\",\"showbackground\":true,\"ticks\":\"\",\"zerolinecolor\":\"white\",\"gridwidth\":2}},\"shapedefaults\":{\"line\":{\"color\":\"#2a3f5f\"}},\"annotationdefaults\":{\"arrowcolor\":\"#2a3f5f\",\"arrowhead\":0,\"arrowwidth\":1},\"geo\":{\"bgcolor\":\"white\",\"landcolor\":\"#E5ECF6\",\"subunitcolor\":\"white\",\"showland\":true,\"showlakes\":true,\"lakecolor\":\"white\"},\"title\":{\"x\":0.05},\"mapbox\":{\"style\":\"light\"}}},\"xaxis\":{\"anchor\":\"y\",\"domain\":[0.0,1.0],\"scaleanchor\":\"y\",\"constrain\":\"domain\"},\"yaxis\":{\"anchor\":\"x\",\"domain\":[0.0,1.0],\"autorange\":\"reversed\",\"constrain\":\"domain\"},\"coloraxis\":{\"colorscale\":[[0.0,\"#440154\"],[0.1111111111111111,\"#482878\"],[0.2222222222222222,\"#3e4989\"],[0.3333333333333333,\"#31688e\"],[0.4444444444444444,\"#26828e\"],[0.5555555555555556,\"#1f9e89\"],[0.6666666666666666,\"#35b779\"],[0.7777777777777778,\"#6ece58\"],[0.8888888888888888,\"#b5de2b\"],[1.0,\"#fde725\"]],\"colorbar\":{\"title\":{\"text\":\"Correlation\"}}},\"title\":{\"text\":\"Correlation Matrix for Natural Gas Data\"},\"width\":800,\"height\":800},                        {\"responsive\": true}                    ).then(function(){\n",
       "                            \n",
       "var gd = document.getElementById('05fffb31-c442-4086-aa51-85e6c7f92f46');\n",
       "var x = new MutationObserver(function (mutations, observer) {{\n",
       "        var display = window.getComputedStyle(gd).display;\n",
       "        if (!display || display === 'none') {{\n",
       "            console.log([gd, 'removed!']);\n",
       "            Plotly.purge(gd);\n",
       "            observer.disconnect();\n",
       "        }}\n",
       "}});\n",
       "\n",
       "// Listen for the removal of the full notebook cells\n",
       "var notebookContainer = gd.closest('#notebook-container');\n",
       "if (notebookContainer) {{\n",
       "    x.observe(notebookContainer, {childList: true});\n",
       "}}\n",
       "\n",
       "// Listen for the clearing of the current output cell\n",
       "var outputEl = gd.closest('.output');\n",
       "if (outputEl) {{\n",
       "    x.observe(outputEl, {childList: true});\n",
       "}}\n",
       "\n",
       "                        })                };                });            </script>        </div>"
      ]
     },
     "metadata": {},
     "output_type": "display_data"
    }
   ],
   "source": [
    "# Create a correlation matrix\n",
    "correlation_matrix = merged_data.corr()\n",
    "\n",
    "# Create a heatmap using Plotly\n",
    "fig = px.imshow(correlation_matrix,\n",
    "                x=correlation_matrix.columns,\n",
    "                y=correlation_matrix.columns,\n",
    "                color_continuous_scale='Viridis',\n",
    "                title='Correlation Matrix for Natural Gas Data')\n",
    "\n",
    "# Update the color bar label\n",
    "fig.update_coloraxes(colorbar_title='Correlation')\n",
    "\n",
    "# Increase the size of the heatmap\n",
    "fig.update_layout(width=800, height=800)  # Adjust the width and height as needed\n",
    "\n",
    "# Show the heatmap\n",
    "fig.show()"
   ]
  },
  {
   "cell_type": "markdown",
   "id": "ea304abc",
   "metadata": {},
   "source": [
    "## Data Cleaning"
   ]
  },
  {
   "cell_type": "code",
   "execution_count": 64,
   "id": "decf5704",
   "metadata": {},
   "outputs": [],
   "source": [
    "# Remove date-related columns\n",
    "date_columns = [col for col in df.columns if col.startswith('Date')]\n",
    "df1 = df.drop(columns=date_columns)\n",
    "\n",
    "# Set a specific column as the index\n",
    "df1 = df1.set_index('Henry Hub Natural Gas Spot Price (Dollars per Million Btu)')\n",
    "\n",
    "# Drop columns with 'price' or 'dollar' in their names\n",
    "columns_to_drop = [col for col in df1.columns if 'price' in col.lower() or 'dollar' in col.lower()]\n",
    "df1 = df1.drop(columns=columns_to_drop)"
   ]
  },
  {
   "cell_type": "markdown",
   "id": "e4cc1ce8",
   "metadata": {},
   "source": [
    "## PRINCIPAL COMPONENT ANALYSIS"
   ]
  },
  {
   "cell_type": "code",
   "execution_count": 69,
   "id": "abc7d8c6",
   "metadata": {},
   "outputs": [
    {
     "data": {
      "application/vnd.plotly.v1+json": {
       "config": {
        "plotlyServerURL": "https://plot.ly"
       },
       "data": [
        {
         "hovertemplate": "Principal Component=%{x}<br>Explained Variance Ratio=%{y}<extra></extra>",
         "legendgroup": "",
         "line": {
          "color": "#636efa",
          "dash": "solid",
          "shape": "linear"
         },
         "marker": {
          "symbol": "circle"
         },
         "mode": "markers+lines",
         "name": "",
         "orientation": "v",
         "showlegend": false,
         "type": "scatter",
         "x": [
          "U.S. Natural Gas Gross Withdrawals (MMcf)",
          "U.S. Natural Gas Marketed Production (MMcf)",
          "U.S. Natural Gas Plant Liquids Production (Million Cubic Feet)",
          "U.S. Dry Natural Gas Production (MMcf)",
          "U.S. Natural Gas Total Consumption (MMcf)",
          "U.S. Natural Gas Lease and Plant Fuel Consumption (MMcf)",
          "U.S. Natural Gas Pipeline & Distribution Use (MMcf)",
          "Natural Gas Delivered to Consumers in the U.S. (MMcf)",
          "U.S. Natural Gas Residential Consumption (MMcf)",
          "Natural Gas Deliveries to Commercial Consumers (Including Vehicle Fuel through 1996) in the U.S. (MMcf)",
          "U.S. Natural Gas Industrial Consumption (MMcf)",
          "U.S. Natural Gas Vehicle Fuel Consumption (MMcf)",
          "U.S. Natural Gas Deliveries to Electric Power Consumers (MMcf)",
          "U.S. Natural Gas Imports (MMcf)",
          "U.S. Natural Gas Pipeline Imports (MMcf)",
          "U.S. Liquefied Natural Gas Imports (MMcf)",
          "U.S. Natural Gas Exports (MMcf)",
          "U.S. Natural Gas Pipeline Exports (MMcf)",
          "Liquefied U.S. Natural Gas Exports (MMcf)"
         ],
         "xaxis": "x",
         "y": [
          0.5839995805057384,
          0.2775430228133364,
          0.06746711074222114,
          0.030190536495535554,
          0.01523981757386139,
          0.011718130915678618,
          0.006922786520801298,
          0.002511179478878747,
          0.0016456916952137218,
          0.0014507602893227306,
          0.0005911888108008003,
          0.0005459612855426856,
          0.00011278262659171062,
          6.144968005463844e-05,
          4.844026655897504e-10,
          8.184853177235241e-11,
          1.0150976709967674e-13,
          4.124161278502905e-14,
          2.8305053199218717e-14
         ],
         "yaxis": "y"
        }
       ],
       "layout": {
        "height": 1200,
        "legend": {
         "tracegroupgap": 0
        },
        "template": {
         "data": {
          "bar": [
           {
            "error_x": {
             "color": "#2a3f5f"
            },
            "error_y": {
             "color": "#2a3f5f"
            },
            "marker": {
             "line": {
              "color": "#E5ECF6",
              "width": 0.5
             },
             "pattern": {
              "fillmode": "overlay",
              "size": 10,
              "solidity": 0.2
             }
            },
            "type": "bar"
           }
          ],
          "barpolar": [
           {
            "marker": {
             "line": {
              "color": "#E5ECF6",
              "width": 0.5
             },
             "pattern": {
              "fillmode": "overlay",
              "size": 10,
              "solidity": 0.2
             }
            },
            "type": "barpolar"
           }
          ],
          "carpet": [
           {
            "aaxis": {
             "endlinecolor": "#2a3f5f",
             "gridcolor": "white",
             "linecolor": "white",
             "minorgridcolor": "white",
             "startlinecolor": "#2a3f5f"
            },
            "baxis": {
             "endlinecolor": "#2a3f5f",
             "gridcolor": "white",
             "linecolor": "white",
             "minorgridcolor": "white",
             "startlinecolor": "#2a3f5f"
            },
            "type": "carpet"
           }
          ],
          "choropleth": [
           {
            "colorbar": {
             "outlinewidth": 0,
             "ticks": ""
            },
            "type": "choropleth"
           }
          ],
          "contour": [
           {
            "colorbar": {
             "outlinewidth": 0,
             "ticks": ""
            },
            "colorscale": [
             [
              0,
              "#0d0887"
             ],
             [
              0.1111111111111111,
              "#46039f"
             ],
             [
              0.2222222222222222,
              "#7201a8"
             ],
             [
              0.3333333333333333,
              "#9c179e"
             ],
             [
              0.4444444444444444,
              "#bd3786"
             ],
             [
              0.5555555555555556,
              "#d8576b"
             ],
             [
              0.6666666666666666,
              "#ed7953"
             ],
             [
              0.7777777777777778,
              "#fb9f3a"
             ],
             [
              0.8888888888888888,
              "#fdca26"
             ],
             [
              1,
              "#f0f921"
             ]
            ],
            "type": "contour"
           }
          ],
          "contourcarpet": [
           {
            "colorbar": {
             "outlinewidth": 0,
             "ticks": ""
            },
            "type": "contourcarpet"
           }
          ],
          "heatmap": [
           {
            "colorbar": {
             "outlinewidth": 0,
             "ticks": ""
            },
            "colorscale": [
             [
              0,
              "#0d0887"
             ],
             [
              0.1111111111111111,
              "#46039f"
             ],
             [
              0.2222222222222222,
              "#7201a8"
             ],
             [
              0.3333333333333333,
              "#9c179e"
             ],
             [
              0.4444444444444444,
              "#bd3786"
             ],
             [
              0.5555555555555556,
              "#d8576b"
             ],
             [
              0.6666666666666666,
              "#ed7953"
             ],
             [
              0.7777777777777778,
              "#fb9f3a"
             ],
             [
              0.8888888888888888,
              "#fdca26"
             ],
             [
              1,
              "#f0f921"
             ]
            ],
            "type": "heatmap"
           }
          ],
          "heatmapgl": [
           {
            "colorbar": {
             "outlinewidth": 0,
             "ticks": ""
            },
            "colorscale": [
             [
              0,
              "#0d0887"
             ],
             [
              0.1111111111111111,
              "#46039f"
             ],
             [
              0.2222222222222222,
              "#7201a8"
             ],
             [
              0.3333333333333333,
              "#9c179e"
             ],
             [
              0.4444444444444444,
              "#bd3786"
             ],
             [
              0.5555555555555556,
              "#d8576b"
             ],
             [
              0.6666666666666666,
              "#ed7953"
             ],
             [
              0.7777777777777778,
              "#fb9f3a"
             ],
             [
              0.8888888888888888,
              "#fdca26"
             ],
             [
              1,
              "#f0f921"
             ]
            ],
            "type": "heatmapgl"
           }
          ],
          "histogram": [
           {
            "marker": {
             "pattern": {
              "fillmode": "overlay",
              "size": 10,
              "solidity": 0.2
             }
            },
            "type": "histogram"
           }
          ],
          "histogram2d": [
           {
            "colorbar": {
             "outlinewidth": 0,
             "ticks": ""
            },
            "colorscale": [
             [
              0,
              "#0d0887"
             ],
             [
              0.1111111111111111,
              "#46039f"
             ],
             [
              0.2222222222222222,
              "#7201a8"
             ],
             [
              0.3333333333333333,
              "#9c179e"
             ],
             [
              0.4444444444444444,
              "#bd3786"
             ],
             [
              0.5555555555555556,
              "#d8576b"
             ],
             [
              0.6666666666666666,
              "#ed7953"
             ],
             [
              0.7777777777777778,
              "#fb9f3a"
             ],
             [
              0.8888888888888888,
              "#fdca26"
             ],
             [
              1,
              "#f0f921"
             ]
            ],
            "type": "histogram2d"
           }
          ],
          "histogram2dcontour": [
           {
            "colorbar": {
             "outlinewidth": 0,
             "ticks": ""
            },
            "colorscale": [
             [
              0,
              "#0d0887"
             ],
             [
              0.1111111111111111,
              "#46039f"
             ],
             [
              0.2222222222222222,
              "#7201a8"
             ],
             [
              0.3333333333333333,
              "#9c179e"
             ],
             [
              0.4444444444444444,
              "#bd3786"
             ],
             [
              0.5555555555555556,
              "#d8576b"
             ],
             [
              0.6666666666666666,
              "#ed7953"
             ],
             [
              0.7777777777777778,
              "#fb9f3a"
             ],
             [
              0.8888888888888888,
              "#fdca26"
             ],
             [
              1,
              "#f0f921"
             ]
            ],
            "type": "histogram2dcontour"
           }
          ],
          "mesh3d": [
           {
            "colorbar": {
             "outlinewidth": 0,
             "ticks": ""
            },
            "type": "mesh3d"
           }
          ],
          "parcoords": [
           {
            "line": {
             "colorbar": {
              "outlinewidth": 0,
              "ticks": ""
             }
            },
            "type": "parcoords"
           }
          ],
          "pie": [
           {
            "automargin": true,
            "type": "pie"
           }
          ],
          "scatter": [
           {
            "fillpattern": {
             "fillmode": "overlay",
             "size": 10,
             "solidity": 0.2
            },
            "type": "scatter"
           }
          ],
          "scatter3d": [
           {
            "line": {
             "colorbar": {
              "outlinewidth": 0,
              "ticks": ""
             }
            },
            "marker": {
             "colorbar": {
              "outlinewidth": 0,
              "ticks": ""
             }
            },
            "type": "scatter3d"
           }
          ],
          "scattercarpet": [
           {
            "marker": {
             "colorbar": {
              "outlinewidth": 0,
              "ticks": ""
             }
            },
            "type": "scattercarpet"
           }
          ],
          "scattergeo": [
           {
            "marker": {
             "colorbar": {
              "outlinewidth": 0,
              "ticks": ""
             }
            },
            "type": "scattergeo"
           }
          ],
          "scattergl": [
           {
            "marker": {
             "colorbar": {
              "outlinewidth": 0,
              "ticks": ""
             }
            },
            "type": "scattergl"
           }
          ],
          "scattermapbox": [
           {
            "marker": {
             "colorbar": {
              "outlinewidth": 0,
              "ticks": ""
             }
            },
            "type": "scattermapbox"
           }
          ],
          "scatterpolar": [
           {
            "marker": {
             "colorbar": {
              "outlinewidth": 0,
              "ticks": ""
             }
            },
            "type": "scatterpolar"
           }
          ],
          "scatterpolargl": [
           {
            "marker": {
             "colorbar": {
              "outlinewidth": 0,
              "ticks": ""
             }
            },
            "type": "scatterpolargl"
           }
          ],
          "scatterternary": [
           {
            "marker": {
             "colorbar": {
              "outlinewidth": 0,
              "ticks": ""
             }
            },
            "type": "scatterternary"
           }
          ],
          "surface": [
           {
            "colorbar": {
             "outlinewidth": 0,
             "ticks": ""
            },
            "colorscale": [
             [
              0,
              "#0d0887"
             ],
             [
              0.1111111111111111,
              "#46039f"
             ],
             [
              0.2222222222222222,
              "#7201a8"
             ],
             [
              0.3333333333333333,
              "#9c179e"
             ],
             [
              0.4444444444444444,
              "#bd3786"
             ],
             [
              0.5555555555555556,
              "#d8576b"
             ],
             [
              0.6666666666666666,
              "#ed7953"
             ],
             [
              0.7777777777777778,
              "#fb9f3a"
             ],
             [
              0.8888888888888888,
              "#fdca26"
             ],
             [
              1,
              "#f0f921"
             ]
            ],
            "type": "surface"
           }
          ],
          "table": [
           {
            "cells": {
             "fill": {
              "color": "#EBF0F8"
             },
             "line": {
              "color": "white"
             }
            },
            "header": {
             "fill": {
              "color": "#C8D4E3"
             },
             "line": {
              "color": "white"
             }
            },
            "type": "table"
           }
          ]
         },
         "layout": {
          "annotationdefaults": {
           "arrowcolor": "#2a3f5f",
           "arrowhead": 0,
           "arrowwidth": 1
          },
          "autotypenumbers": "strict",
          "coloraxis": {
           "colorbar": {
            "outlinewidth": 0,
            "ticks": ""
           }
          },
          "colorscale": {
           "diverging": [
            [
             0,
             "#8e0152"
            ],
            [
             0.1,
             "#c51b7d"
            ],
            [
             0.2,
             "#de77ae"
            ],
            [
             0.3,
             "#f1b6da"
            ],
            [
             0.4,
             "#fde0ef"
            ],
            [
             0.5,
             "#f7f7f7"
            ],
            [
             0.6,
             "#e6f5d0"
            ],
            [
             0.7,
             "#b8e186"
            ],
            [
             0.8,
             "#7fbc41"
            ],
            [
             0.9,
             "#4d9221"
            ],
            [
             1,
             "#276419"
            ]
           ],
           "sequential": [
            [
             0,
             "#0d0887"
            ],
            [
             0.1111111111111111,
             "#46039f"
            ],
            [
             0.2222222222222222,
             "#7201a8"
            ],
            [
             0.3333333333333333,
             "#9c179e"
            ],
            [
             0.4444444444444444,
             "#bd3786"
            ],
            [
             0.5555555555555556,
             "#d8576b"
            ],
            [
             0.6666666666666666,
             "#ed7953"
            ],
            [
             0.7777777777777778,
             "#fb9f3a"
            ],
            [
             0.8888888888888888,
             "#fdca26"
            ],
            [
             1,
             "#f0f921"
            ]
           ],
           "sequentialminus": [
            [
             0,
             "#0d0887"
            ],
            [
             0.1111111111111111,
             "#46039f"
            ],
            [
             0.2222222222222222,
             "#7201a8"
            ],
            [
             0.3333333333333333,
             "#9c179e"
            ],
            [
             0.4444444444444444,
             "#bd3786"
            ],
            [
             0.5555555555555556,
             "#d8576b"
            ],
            [
             0.6666666666666666,
             "#ed7953"
            ],
            [
             0.7777777777777778,
             "#fb9f3a"
            ],
            [
             0.8888888888888888,
             "#fdca26"
            ],
            [
             1,
             "#f0f921"
            ]
           ]
          },
          "colorway": [
           "#636efa",
           "#EF553B",
           "#00cc96",
           "#ab63fa",
           "#FFA15A",
           "#19d3f3",
           "#FF6692",
           "#B6E880",
           "#FF97FF",
           "#FECB52"
          ],
          "font": {
           "color": "#2a3f5f"
          },
          "geo": {
           "bgcolor": "white",
           "lakecolor": "white",
           "landcolor": "#E5ECF6",
           "showlakes": true,
           "showland": true,
           "subunitcolor": "white"
          },
          "hoverlabel": {
           "align": "left"
          },
          "hovermode": "closest",
          "mapbox": {
           "style": "light"
          },
          "paper_bgcolor": "white",
          "plot_bgcolor": "#E5ECF6",
          "polar": {
           "angularaxis": {
            "gridcolor": "white",
            "linecolor": "white",
            "ticks": ""
           },
           "bgcolor": "#E5ECF6",
           "radialaxis": {
            "gridcolor": "white",
            "linecolor": "white",
            "ticks": ""
           }
          },
          "scene": {
           "xaxis": {
            "backgroundcolor": "#E5ECF6",
            "gridcolor": "white",
            "gridwidth": 2,
            "linecolor": "white",
            "showbackground": true,
            "ticks": "",
            "zerolinecolor": "white"
           },
           "yaxis": {
            "backgroundcolor": "#E5ECF6",
            "gridcolor": "white",
            "gridwidth": 2,
            "linecolor": "white",
            "showbackground": true,
            "ticks": "",
            "zerolinecolor": "white"
           },
           "zaxis": {
            "backgroundcolor": "#E5ECF6",
            "gridcolor": "white",
            "gridwidth": 2,
            "linecolor": "white",
            "showbackground": true,
            "ticks": "",
            "zerolinecolor": "white"
           }
          },
          "shapedefaults": {
           "line": {
            "color": "#2a3f5f"
           }
          },
          "ternary": {
           "aaxis": {
            "gridcolor": "white",
            "linecolor": "white",
            "ticks": ""
           },
           "baxis": {
            "gridcolor": "white",
            "linecolor": "white",
            "ticks": ""
           },
           "bgcolor": "#E5ECF6",
           "caxis": {
            "gridcolor": "white",
            "linecolor": "white",
            "ticks": ""
           }
          },
          "title": {
           "x": 0.05
          },
          "xaxis": {
           "automargin": true,
           "gridcolor": "white",
           "linecolor": "white",
           "ticks": "",
           "title": {
            "standoff": 15
           },
           "zerolinecolor": "white",
           "zerolinewidth": 2
          },
          "yaxis": {
           "automargin": true,
           "gridcolor": "white",
           "linecolor": "white",
           "ticks": "",
           "title": {
            "standoff": 15
           },
           "zerolinecolor": "white",
           "zerolinewidth": 2
          }
         }
        },
        "title": {
         "text": "Scree Plot"
        },
        "width": 1000,
        "xaxis": {
         "anchor": "y",
         "domain": [
          0,
          1
         ],
         "title": {
          "text": "Principal Component"
         }
        },
        "yaxis": {
         "anchor": "x",
         "domain": [
          0,
          1
         ],
         "title": {
          "text": "Explained Variance Ratio"
         }
        }
       }
      },
      "text/html": [
       "<div>                            <div id=\"14b4ea3a-de4c-4579-bbfa-af4767305aaa\" class=\"plotly-graph-div\" style=\"height:1200px; width:1000px;\"></div>            <script type=\"text/javascript\">                require([\"plotly\"], function(Plotly) {                    window.PLOTLYENV=window.PLOTLYENV || {};                                    if (document.getElementById(\"14b4ea3a-de4c-4579-bbfa-af4767305aaa\")) {                    Plotly.newPlot(                        \"14b4ea3a-de4c-4579-bbfa-af4767305aaa\",                        [{\"hovertemplate\":\"Principal Component=%{x}<br>Explained Variance Ratio=%{y}<extra></extra>\",\"legendgroup\":\"\",\"line\":{\"color\":\"#636efa\",\"dash\":\"solid\",\"shape\":\"linear\"},\"marker\":{\"symbol\":\"circle\"},\"mode\":\"markers+lines\",\"name\":\"\",\"orientation\":\"v\",\"showlegend\":false,\"x\":[\"U.S. Natural Gas Gross Withdrawals (MMcf)\",\"U.S. Natural Gas Marketed Production (MMcf)\",\"U.S. Natural Gas Plant Liquids Production (Million Cubic Feet)\",\"U.S. Dry Natural Gas Production (MMcf)\",\"U.S. Natural Gas Total Consumption (MMcf)\",\"U.S. Natural Gas Lease and Plant Fuel Consumption (MMcf)\",\"U.S. Natural Gas Pipeline & Distribution Use (MMcf)\",\"Natural Gas Delivered to Consumers in the U.S. (MMcf)\",\"U.S. Natural Gas Residential Consumption (MMcf)\",\"Natural Gas Deliveries to Commercial Consumers (Including Vehicle Fuel through 1996) in the U.S. (MMcf)\",\"U.S. Natural Gas Industrial Consumption (MMcf)\",\"U.S. Natural Gas Vehicle Fuel Consumption (MMcf)\",\"U.S. Natural Gas Deliveries to Electric Power Consumers (MMcf)\",\"U.S. Natural Gas Imports (MMcf)\",\"U.S. Natural Gas Pipeline Imports (MMcf)\",\"U.S. Liquefied Natural Gas Imports (MMcf)\",\"U.S. Natural Gas Exports (MMcf)\",\"U.S. Natural Gas Pipeline Exports (MMcf)\",\"Liquefied U.S. Natural Gas Exports (MMcf)\"],\"xaxis\":\"x\",\"y\":[0.5839995805057384,0.2775430228133364,0.06746711074222114,0.030190536495535554,0.01523981757386139,0.011718130915678618,0.006922786520801298,0.002511179478878747,0.0016456916952137218,0.0014507602893227306,0.0005911888108008003,0.0005459612855426856,0.00011278262659171062,6.144968005463844e-05,4.844026655897504e-10,8.184853177235241e-11,1.0150976709967674e-13,4.124161278502905e-14,2.8305053199218717e-14],\"yaxis\":\"y\",\"type\":\"scatter\"}],                        {\"template\":{\"data\":{\"histogram2dcontour\":[{\"type\":\"histogram2dcontour\",\"colorbar\":{\"outlinewidth\":0,\"ticks\":\"\"},\"colorscale\":[[0.0,\"#0d0887\"],[0.1111111111111111,\"#46039f\"],[0.2222222222222222,\"#7201a8\"],[0.3333333333333333,\"#9c179e\"],[0.4444444444444444,\"#bd3786\"],[0.5555555555555556,\"#d8576b\"],[0.6666666666666666,\"#ed7953\"],[0.7777777777777778,\"#fb9f3a\"],[0.8888888888888888,\"#fdca26\"],[1.0,\"#f0f921\"]]}],\"choropleth\":[{\"type\":\"choropleth\",\"colorbar\":{\"outlinewidth\":0,\"ticks\":\"\"}}],\"histogram2d\":[{\"type\":\"histogram2d\",\"colorbar\":{\"outlinewidth\":0,\"ticks\":\"\"},\"colorscale\":[[0.0,\"#0d0887\"],[0.1111111111111111,\"#46039f\"],[0.2222222222222222,\"#7201a8\"],[0.3333333333333333,\"#9c179e\"],[0.4444444444444444,\"#bd3786\"],[0.5555555555555556,\"#d8576b\"],[0.6666666666666666,\"#ed7953\"],[0.7777777777777778,\"#fb9f3a\"],[0.8888888888888888,\"#fdca26\"],[1.0,\"#f0f921\"]]}],\"heatmap\":[{\"type\":\"heatmap\",\"colorbar\":{\"outlinewidth\":0,\"ticks\":\"\"},\"colorscale\":[[0.0,\"#0d0887\"],[0.1111111111111111,\"#46039f\"],[0.2222222222222222,\"#7201a8\"],[0.3333333333333333,\"#9c179e\"],[0.4444444444444444,\"#bd3786\"],[0.5555555555555556,\"#d8576b\"],[0.6666666666666666,\"#ed7953\"],[0.7777777777777778,\"#fb9f3a\"],[0.8888888888888888,\"#fdca26\"],[1.0,\"#f0f921\"]]}],\"heatmapgl\":[{\"type\":\"heatmapgl\",\"colorbar\":{\"outlinewidth\":0,\"ticks\":\"\"},\"colorscale\":[[0.0,\"#0d0887\"],[0.1111111111111111,\"#46039f\"],[0.2222222222222222,\"#7201a8\"],[0.3333333333333333,\"#9c179e\"],[0.4444444444444444,\"#bd3786\"],[0.5555555555555556,\"#d8576b\"],[0.6666666666666666,\"#ed7953\"],[0.7777777777777778,\"#fb9f3a\"],[0.8888888888888888,\"#fdca26\"],[1.0,\"#f0f921\"]]}],\"contourcarpet\":[{\"type\":\"contourcarpet\",\"colorbar\":{\"outlinewidth\":0,\"ticks\":\"\"}}],\"contour\":[{\"type\":\"contour\",\"colorbar\":{\"outlinewidth\":0,\"ticks\":\"\"},\"colorscale\":[[0.0,\"#0d0887\"],[0.1111111111111111,\"#46039f\"],[0.2222222222222222,\"#7201a8\"],[0.3333333333333333,\"#9c179e\"],[0.4444444444444444,\"#bd3786\"],[0.5555555555555556,\"#d8576b\"],[0.6666666666666666,\"#ed7953\"],[0.7777777777777778,\"#fb9f3a\"],[0.8888888888888888,\"#fdca26\"],[1.0,\"#f0f921\"]]}],\"surface\":[{\"type\":\"surface\",\"colorbar\":{\"outlinewidth\":0,\"ticks\":\"\"},\"colorscale\":[[0.0,\"#0d0887\"],[0.1111111111111111,\"#46039f\"],[0.2222222222222222,\"#7201a8\"],[0.3333333333333333,\"#9c179e\"],[0.4444444444444444,\"#bd3786\"],[0.5555555555555556,\"#d8576b\"],[0.6666666666666666,\"#ed7953\"],[0.7777777777777778,\"#fb9f3a\"],[0.8888888888888888,\"#fdca26\"],[1.0,\"#f0f921\"]]}],\"mesh3d\":[{\"type\":\"mesh3d\",\"colorbar\":{\"outlinewidth\":0,\"ticks\":\"\"}}],\"scatter\":[{\"fillpattern\":{\"fillmode\":\"overlay\",\"size\":10,\"solidity\":0.2},\"type\":\"scatter\"}],\"parcoords\":[{\"type\":\"parcoords\",\"line\":{\"colorbar\":{\"outlinewidth\":0,\"ticks\":\"\"}}}],\"scatterpolargl\":[{\"type\":\"scatterpolargl\",\"marker\":{\"colorbar\":{\"outlinewidth\":0,\"ticks\":\"\"}}}],\"bar\":[{\"error_x\":{\"color\":\"#2a3f5f\"},\"error_y\":{\"color\":\"#2a3f5f\"},\"marker\":{\"line\":{\"color\":\"#E5ECF6\",\"width\":0.5},\"pattern\":{\"fillmode\":\"overlay\",\"size\":10,\"solidity\":0.2}},\"type\":\"bar\"}],\"scattergeo\":[{\"type\":\"scattergeo\",\"marker\":{\"colorbar\":{\"outlinewidth\":0,\"ticks\":\"\"}}}],\"scatterpolar\":[{\"type\":\"scatterpolar\",\"marker\":{\"colorbar\":{\"outlinewidth\":0,\"ticks\":\"\"}}}],\"histogram\":[{\"marker\":{\"pattern\":{\"fillmode\":\"overlay\",\"size\":10,\"solidity\":0.2}},\"type\":\"histogram\"}],\"scattergl\":[{\"type\":\"scattergl\",\"marker\":{\"colorbar\":{\"outlinewidth\":0,\"ticks\":\"\"}}}],\"scatter3d\":[{\"type\":\"scatter3d\",\"line\":{\"colorbar\":{\"outlinewidth\":0,\"ticks\":\"\"}},\"marker\":{\"colorbar\":{\"outlinewidth\":0,\"ticks\":\"\"}}}],\"scattermapbox\":[{\"type\":\"scattermapbox\",\"marker\":{\"colorbar\":{\"outlinewidth\":0,\"ticks\":\"\"}}}],\"scatterternary\":[{\"type\":\"scatterternary\",\"marker\":{\"colorbar\":{\"outlinewidth\":0,\"ticks\":\"\"}}}],\"scattercarpet\":[{\"type\":\"scattercarpet\",\"marker\":{\"colorbar\":{\"outlinewidth\":0,\"ticks\":\"\"}}}],\"carpet\":[{\"aaxis\":{\"endlinecolor\":\"#2a3f5f\",\"gridcolor\":\"white\",\"linecolor\":\"white\",\"minorgridcolor\":\"white\",\"startlinecolor\":\"#2a3f5f\"},\"baxis\":{\"endlinecolor\":\"#2a3f5f\",\"gridcolor\":\"white\",\"linecolor\":\"white\",\"minorgridcolor\":\"white\",\"startlinecolor\":\"#2a3f5f\"},\"type\":\"carpet\"}],\"table\":[{\"cells\":{\"fill\":{\"color\":\"#EBF0F8\"},\"line\":{\"color\":\"white\"}},\"header\":{\"fill\":{\"color\":\"#C8D4E3\"},\"line\":{\"color\":\"white\"}},\"type\":\"table\"}],\"barpolar\":[{\"marker\":{\"line\":{\"color\":\"#E5ECF6\",\"width\":0.5},\"pattern\":{\"fillmode\":\"overlay\",\"size\":10,\"solidity\":0.2}},\"type\":\"barpolar\"}],\"pie\":[{\"automargin\":true,\"type\":\"pie\"}]},\"layout\":{\"autotypenumbers\":\"strict\",\"colorway\":[\"#636efa\",\"#EF553B\",\"#00cc96\",\"#ab63fa\",\"#FFA15A\",\"#19d3f3\",\"#FF6692\",\"#B6E880\",\"#FF97FF\",\"#FECB52\"],\"font\":{\"color\":\"#2a3f5f\"},\"hovermode\":\"closest\",\"hoverlabel\":{\"align\":\"left\"},\"paper_bgcolor\":\"white\",\"plot_bgcolor\":\"#E5ECF6\",\"polar\":{\"bgcolor\":\"#E5ECF6\",\"angularaxis\":{\"gridcolor\":\"white\",\"linecolor\":\"white\",\"ticks\":\"\"},\"radialaxis\":{\"gridcolor\":\"white\",\"linecolor\":\"white\",\"ticks\":\"\"}},\"ternary\":{\"bgcolor\":\"#E5ECF6\",\"aaxis\":{\"gridcolor\":\"white\",\"linecolor\":\"white\",\"ticks\":\"\"},\"baxis\":{\"gridcolor\":\"white\",\"linecolor\":\"white\",\"ticks\":\"\"},\"caxis\":{\"gridcolor\":\"white\",\"linecolor\":\"white\",\"ticks\":\"\"}},\"coloraxis\":{\"colorbar\":{\"outlinewidth\":0,\"ticks\":\"\"}},\"colorscale\":{\"sequential\":[[0.0,\"#0d0887\"],[0.1111111111111111,\"#46039f\"],[0.2222222222222222,\"#7201a8\"],[0.3333333333333333,\"#9c179e\"],[0.4444444444444444,\"#bd3786\"],[0.5555555555555556,\"#d8576b\"],[0.6666666666666666,\"#ed7953\"],[0.7777777777777778,\"#fb9f3a\"],[0.8888888888888888,\"#fdca26\"],[1.0,\"#f0f921\"]],\"sequentialminus\":[[0.0,\"#0d0887\"],[0.1111111111111111,\"#46039f\"],[0.2222222222222222,\"#7201a8\"],[0.3333333333333333,\"#9c179e\"],[0.4444444444444444,\"#bd3786\"],[0.5555555555555556,\"#d8576b\"],[0.6666666666666666,\"#ed7953\"],[0.7777777777777778,\"#fb9f3a\"],[0.8888888888888888,\"#fdca26\"],[1.0,\"#f0f921\"]],\"diverging\":[[0,\"#8e0152\"],[0.1,\"#c51b7d\"],[0.2,\"#de77ae\"],[0.3,\"#f1b6da\"],[0.4,\"#fde0ef\"],[0.5,\"#f7f7f7\"],[0.6,\"#e6f5d0\"],[0.7,\"#b8e186\"],[0.8,\"#7fbc41\"],[0.9,\"#4d9221\"],[1,\"#276419\"]]},\"xaxis\":{\"gridcolor\":\"white\",\"linecolor\":\"white\",\"ticks\":\"\",\"title\":{\"standoff\":15},\"zerolinecolor\":\"white\",\"automargin\":true,\"zerolinewidth\":2},\"yaxis\":{\"gridcolor\":\"white\",\"linecolor\":\"white\",\"ticks\":\"\",\"title\":{\"standoff\":15},\"zerolinecolor\":\"white\",\"automargin\":true,\"zerolinewidth\":2},\"scene\":{\"xaxis\":{\"backgroundcolor\":\"#E5ECF6\",\"gridcolor\":\"white\",\"linecolor\":\"white\",\"showbackground\":true,\"ticks\":\"\",\"zerolinecolor\":\"white\",\"gridwidth\":2},\"yaxis\":{\"backgroundcolor\":\"#E5ECF6\",\"gridcolor\":\"white\",\"linecolor\":\"white\",\"showbackground\":true,\"ticks\":\"\",\"zerolinecolor\":\"white\",\"gridwidth\":2},\"zaxis\":{\"backgroundcolor\":\"#E5ECF6\",\"gridcolor\":\"white\",\"linecolor\":\"white\",\"showbackground\":true,\"ticks\":\"\",\"zerolinecolor\":\"white\",\"gridwidth\":2}},\"shapedefaults\":{\"line\":{\"color\":\"#2a3f5f\"}},\"annotationdefaults\":{\"arrowcolor\":\"#2a3f5f\",\"arrowhead\":0,\"arrowwidth\":1},\"geo\":{\"bgcolor\":\"white\",\"landcolor\":\"#E5ECF6\",\"subunitcolor\":\"white\",\"showland\":true,\"showlakes\":true,\"lakecolor\":\"white\"},\"title\":{\"x\":0.05},\"mapbox\":{\"style\":\"light\"}}},\"xaxis\":{\"anchor\":\"y\",\"domain\":[0.0,1.0],\"title\":{\"text\":\"Principal Component\"}},\"yaxis\":{\"anchor\":\"x\",\"domain\":[0.0,1.0],\"title\":{\"text\":\"Explained Variance Ratio\"}},\"legend\":{\"tracegroupgap\":0},\"title\":{\"text\":\"Scree Plot\"},\"width\":1000,\"height\":1200},                        {\"responsive\": true}                    ).then(function(){\n",
       "                            \n",
       "var gd = document.getElementById('14b4ea3a-de4c-4579-bbfa-af4767305aaa');\n",
       "var x = new MutationObserver(function (mutations, observer) {{\n",
       "        var display = window.getComputedStyle(gd).display;\n",
       "        if (!display || display === 'none') {{\n",
       "            console.log([gd, 'removed!']);\n",
       "            Plotly.purge(gd);\n",
       "            observer.disconnect();\n",
       "        }}\n",
       "}});\n",
       "\n",
       "// Listen for the removal of the full notebook cells\n",
       "var notebookContainer = gd.closest('#notebook-container');\n",
       "if (notebookContainer) {{\n",
       "    x.observe(notebookContainer, {childList: true});\n",
       "}}\n",
       "\n",
       "// Listen for the clearing of the current output cell\n",
       "var outputEl = gd.closest('.output');\n",
       "if (outputEl) {{\n",
       "    x.observe(outputEl, {childList: true});\n",
       "}}\n",
       "\n",
       "                        })                };                });            </script>        </div>"
      ]
     },
     "metadata": {},
     "output_type": "display_data"
    }
   ],
   "source": [
    "import numpy as np\n",
    "import pandas as pd\n",
    "import plotly.express as px\n",
    "from sklearn.decomposition import PCA\n",
    "from sklearn.preprocessing import StandardScaler\n",
    "\n",
    "# Standardize the data and perform Principal Component Analysis (PCA)\n",
    "scaler = StandardScaler()\n",
    "X_scaled = scaler.fit_transform(df1)\n",
    "pca = PCA()\n",
    "pca.fit(X_scaled)\n",
    "explained_variance_ratio = pca.explained_variance_ratio_\n",
    "\n",
    "# Get column names\n",
    "column_names = df1.columns.tolist()\n",
    "\n",
    "# Create a DataFrame for the scree plot data\n",
    "scree_data = pd.DataFrame({'Principal Component': column_names,\n",
    "                           'Explained Variance Ratio': explained_variance_ratio})\n",
    "\n",
    "# Create a scree plot using Plotly Express\n",
    "fig = px.line(scree_data, x='Principal Component', y='Explained Variance Ratio', markers=True,\n",
    "              line_shape='linear', title='Scree Plot')\n",
    "\n",
    "# Customize axis labels and plot size\n",
    "fig.update_xaxes(title_text='Principal Component')\n",
    "fig.update_yaxes(title_text='Explained Variance Ratio')\n",
    "fig.update_layout(width=1000, height=1200)\n",
    "\n",
    "# Display the scree plot\n",
    "fig.show()"
   ]
  },
  {
   "cell_type": "code",
   "execution_count": null,
   "id": "f1ef9455",
   "metadata": {},
   "outputs": [],
   "source": []
  }
 ],
 "metadata": {
  "kernelspec": {
   "display_name": "Python 3 (ipykernel)",
   "language": "python",
   "name": "python3"
  },
  "language_info": {
   "codemirror_mode": {
    "name": "ipython",
    "version": 3
   },
   "file_extension": ".py",
   "mimetype": "text/x-python",
   "name": "python",
   "nbconvert_exporter": "python",
   "pygments_lexer": "ipython3",
   "version": "3.9.16"
  }
 },
 "nbformat": 4,
 "nbformat_minor": 5
}
